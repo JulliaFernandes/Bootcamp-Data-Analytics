{
 "cells": [
  {
   "cell_type": "code",
   "execution_count": 118,
   "metadata": {},
   "outputs": [],
   "source": [
    "import pandas as pd\n",
    "import numpy as np"
   ]
  },
  {
   "cell_type": "code",
   "execution_count": 290,
   "metadata": {},
   "outputs": [
    {
     "name": "stdout",
     "output_type": "stream",
     "text": [
      "   Linguagens  Ciências humanas  Ciências da natureza  Matemática     Redação  \\\n",
      "0  585.669300        686.512178            390.482473  452.281333  546.371706   \n",
      "1  359.384608        642.084134                   NaN  412.205207  741.825256   \n",
      "2  622.732384        495.510719            443.183580  669.683401  684.515750   \n",
      "3  350.164605        602.041588            413.979810  676.608952  671.237114   \n",
      "4  384.093657        489.249140            609.758123  520.426698  744.375048   \n",
      "\n",
      "     Sexo  \n",
      "0   Homem  \n",
      "1  Mulher  \n",
      "2   Homem  \n",
      "3   Homem  \n",
      "4   Homem  \n"
     ]
    }
   ],
   "source": [
    "arquivo = 'enem_2023.json'\n",
    "data_enem = pd.read_json(arquivo)\n",
    "print(data_enem.head(5))"
   ]
  },
  {
   "cell_type": "code",
   "execution_count": 291,
   "metadata": {},
   "outputs": [
    {
     "name": "stdout",
     "output_type": "stream",
     "text": [
      "<class 'pandas.core.frame.DataFrame'>\n",
      "Index: 1000 entries, 0 to 999\n",
      "Data columns (total 6 columns):\n",
      " #   Column                Non-Null Count  Dtype  \n",
      "---  ------                --------------  -----  \n",
      " 0   Linguagens            897 non-null    float64\n",
      " 1   Ciências humanas      936 non-null    float64\n",
      " 2   Ciências da natureza  824 non-null    float64\n",
      " 3   Matemática            924 non-null    float64\n",
      " 4   Redação               860 non-null    float64\n",
      " 5   Sexo                  1000 non-null   object \n",
      "dtypes: float64(5), object(1)\n",
      "memory usage: 54.7+ KB\n"
     ]
    }
   ],
   "source": [
    "data_enem.info()"
   ]
  },
  {
   "cell_type": "code",
   "execution_count": 179,
   "metadata": {},
   "outputs": [
    {
     "name": "stdout",
     "output_type": "stream",
     "text": [
      "DESCRIBE: \n",
      "         Linguagens  Ciências humanas  Ciências da natureza  Matemática  \\\n",
      "count  897.000000        936.000000            824.000000  924.000000   \n",
      "mean   514.524809        527.042281            499.315583  535.965660   \n",
      "std     84.009313         77.811519             78.760404   86.648100   \n",
      "min    287.000000        289.900000            314.400000  319.800000   \n",
      "25%    458.360558        475.424546            444.709076  479.172971   \n",
      "50%    515.045250        524.519920            500.479263  533.247767   \n",
      "75%    571.635876        581.401952            548.751678  592.912963   \n",
      "max    804.456317        763.919695            802.004568  807.877902   \n",
      "\n",
      "           Redação  \n",
      "count   860.000000  \n",
      "mean    637.783532  \n",
      "std     115.339972  \n",
      "min     270.839965  \n",
      "25%     556.468366  \n",
      "50%     635.273973  \n",
      "75%     715.989868  \n",
      "max    1000.000000  \n"
     ]
    }
   ],
   "source": [
    "data_enem_describe = data_enem.describe()\n",
    "print('DESCRIBE: \\n ', data_enem_describe)\n"
   ]
  },
  {
   "cell_type": "markdown",
   "metadata": {},
   "source": [
    "1- Qual das disciplinas tem a maior amplitude de nota?"
   ]
  },
  {
   "cell_type": "code",
   "execution_count": 180,
   "metadata": {},
   "outputs": [
    {
     "name": "stdout",
     "output_type": "stream",
     "text": [
      "A matéria com maior amplitude é: Redação    729.160035\n",
      "dtype: float64\n"
     ]
    }
   ],
   "source": [
    "amplitude = data_enem_describe.loc['max'] - data_enem_describe.loc['min']\n",
    "### Pegando a disciplina com maior numero de amplitude\n",
    "print('A matéria com maior amplitude é:', amplitude[amplitude.max() == amplitude])\n"
   ]
  },
  {
   "cell_type": "markdown",
   "metadata": {},
   "source": [
    "2- Qual é a média e a mediana para cada uma das disciplinas? (Lembre-se de remover todos os valores nulos quando considerar a mediana)"
   ]
  },
  {
   "cell_type": "code",
   "execution_count": 181,
   "metadata": {},
   "outputs": [
    {
     "data": {
      "text/plain": [
       "Linguagens              103\n",
       "Ciências humanas         64\n",
       "Ciências da natureza    176\n",
       "Matemática               76\n",
       "Redação                 140\n",
       "Sexo                      0\n",
       "dtype: int64"
      ]
     },
     "execution_count": 181,
     "metadata": {},
     "output_type": "execute_result"
    }
   ],
   "source": [
    "data_enem.isna().sum()"
   ]
  },
  {
   "cell_type": "code",
   "execution_count": 292,
   "metadata": {},
   "outputs": [
    {
     "data": {
      "text/plain": [
       "Linguagens              0\n",
       "Ciências humanas        0\n",
       "Ciências da natureza    0\n",
       "Matemática              0\n",
       "Redação                 0\n",
       "Sexo                    0\n",
       "dtype: int64"
      ]
     },
     "execution_count": 292,
     "metadata": {},
     "output_type": "execute_result"
    }
   ],
   "source": [
    "### Removendo os valores nulos\n",
    "## Salvando em uma variável para usar na questão 10\n",
    "data_enem_com_nulos = data_enem.copy()\n",
    "data_enem = data_enem.dropna()\n",
    "data_enem.isna().sum()"
   ]
  },
  {
   "cell_type": "code",
   "execution_count": 183,
   "metadata": {},
   "outputs": [
    {
     "name": "stdout",
     "output_type": "stream",
     "text": [
      "<class 'pandas.core.frame.DataFrame'>\n",
      "Index: 548 entries, 0 to 998\n",
      "Data columns (total 6 columns):\n",
      " #   Column                Non-Null Count  Dtype  \n",
      "---  ------                --------------  -----  \n",
      " 0   Linguagens            548 non-null    float64\n",
      " 1   Ciências humanas      548 non-null    float64\n",
      " 2   Ciências da natureza  548 non-null    float64\n",
      " 3   Matemática            548 non-null    float64\n",
      " 4   Redação               548 non-null    float64\n",
      " 5   Sexo                  548 non-null    object \n",
      "dtypes: float64(5), object(1)\n",
      "memory usage: 30.0+ KB\n",
      "Quntidade de dados:  548\n"
     ]
    }
   ],
   "source": [
    "data_enem.info()\n",
    "print('Quntidade de dados: ', len(data_enem.index))"
   ]
  },
  {
   "cell_type": "code",
   "execution_count": 184,
   "metadata": {},
   "outputs": [
    {
     "data": {
      "text/html": [
       "<div>\n",
       "<style scoped>\n",
       "    .dataframe tbody tr th:only-of-type {\n",
       "        vertical-align: middle;\n",
       "    }\n",
       "\n",
       "    .dataframe tbody tr th {\n",
       "        vertical-align: top;\n",
       "    }\n",
       "\n",
       "    .dataframe thead th {\n",
       "        text-align: right;\n",
       "    }\n",
       "</style>\n",
       "<table border=\"1\" class=\"dataframe\">\n",
       "  <thead>\n",
       "    <tr style=\"text-align: right;\">\n",
       "      <th></th>\n",
       "      <th>Linguagens</th>\n",
       "      <th>Ciências humanas</th>\n",
       "      <th>Ciências da natureza</th>\n",
       "      <th>Matemática</th>\n",
       "      <th>Redação</th>\n",
       "      <th>Sexo</th>\n",
       "    </tr>\n",
       "  </thead>\n",
       "  <tbody>\n",
       "    <tr>\n",
       "      <th>0</th>\n",
       "      <td>585.669300</td>\n",
       "      <td>686.512178</td>\n",
       "      <td>390.482473</td>\n",
       "      <td>452.281333</td>\n",
       "      <td>546.371706</td>\n",
       "      <td>Homem</td>\n",
       "    </tr>\n",
       "    <tr>\n",
       "      <th>2</th>\n",
       "      <td>622.732384</td>\n",
       "      <td>495.510719</td>\n",
       "      <td>443.183580</td>\n",
       "      <td>669.683401</td>\n",
       "      <td>684.515750</td>\n",
       "      <td>Homem</td>\n",
       "    </tr>\n",
       "    <tr>\n",
       "      <th>3</th>\n",
       "      <td>350.164605</td>\n",
       "      <td>602.041588</td>\n",
       "      <td>413.979810</td>\n",
       "      <td>676.608952</td>\n",
       "      <td>671.237114</td>\n",
       "      <td>Homem</td>\n",
       "    </tr>\n",
       "    <tr>\n",
       "      <th>4</th>\n",
       "      <td>384.093657</td>\n",
       "      <td>489.249140</td>\n",
       "      <td>609.758123</td>\n",
       "      <td>520.426698</td>\n",
       "      <td>744.375048</td>\n",
       "      <td>Homem</td>\n",
       "    </tr>\n",
       "    <tr>\n",
       "      <th>5</th>\n",
       "      <td>616.043360</td>\n",
       "      <td>502.007005</td>\n",
       "      <td>497.777935</td>\n",
       "      <td>615.902547</td>\n",
       "      <td>507.365147</td>\n",
       "      <td>Homem</td>\n",
       "    </tr>\n",
       "  </tbody>\n",
       "</table>\n",
       "</div>"
      ],
      "text/plain": [
       "   Linguagens  Ciências humanas  Ciências da natureza  Matemática     Redação  \\\n",
       "0  585.669300        686.512178            390.482473  452.281333  546.371706   \n",
       "2  622.732384        495.510719            443.183580  669.683401  684.515750   \n",
       "3  350.164605        602.041588            413.979810  676.608952  671.237114   \n",
       "4  384.093657        489.249140            609.758123  520.426698  744.375048   \n",
       "5  616.043360        502.007005            497.777935  615.902547  507.365147   \n",
       "\n",
       "    Sexo  \n",
       "0  Homem  \n",
       "2  Homem  \n",
       "3  Homem  \n",
       "4  Homem  \n",
       "5  Homem  "
      ]
     },
     "execution_count": 184,
     "metadata": {},
     "output_type": "execute_result"
    }
   ],
   "source": [
    "data_enem.head(5)"
   ]
  },
  {
   "cell_type": "code",
   "execution_count": 185,
   "metadata": {},
   "outputs": [
    {
     "data": {
      "text/plain": [
       "Linguagens              517.467162\n",
       "Ciências humanas        528.351454\n",
       "Ciências da natureza    502.142101\n",
       "Matemática              537.172480\n",
       "Redação                 641.193123\n",
       "dtype: float64"
      ]
     },
     "execution_count": 185,
     "metadata": {},
     "output_type": "execute_result"
    }
   ],
   "source": [
    "### Média das notas\n",
    "data_enem[['Linguagens', 'Ciências humanas', 'Ciências da natureza', 'Matemática', 'Redação']].mean()"
   ]
  },
  {
   "cell_type": "code",
   "execution_count": 186,
   "metadata": {},
   "outputs": [
    {
     "data": {
      "text/plain": [
       "Linguagens              517.128831\n",
       "Ciências humanas        528.503263\n",
       "Ciências da natureza    502.935209\n",
       "Matemática              532.961486\n",
       "Redação                 639.602691\n",
       "dtype: float64"
      ]
     },
     "execution_count": 186,
     "metadata": {},
     "output_type": "execute_result"
    }
   ],
   "source": [
    "### Mediana das notas\n",
    "data_enem[['Linguagens', 'Ciências humanas', 'Ciências da natureza', 'Matemática', 'Redação']].median()"
   ]
  },
  {
   "cell_type": "markdown",
   "metadata": {},
   "source": [
    "3- Considerando o curso de Ciência da Computação da UFPE, onde o peso cada uma das disciplinas ponderado: \n",
    "\n",
    "a. Redação - 2 \n",
    "\n",
    "b. Matemática e suas Tecnologias - 4 \n",
    "\n",
    "c. Linguagens, Códigos e suas Tecnologias - 2 \n",
    "\n",
    "d. Ciências Humanas e suas Tecnologias - 1 \n",
    "\n",
    "e. Ciências da Natureza e suas Tecnologias - 1 \n",
    "\n",
    "Qual o desvio padrão e média das notas dos 500 estudantes mais bem colocados considerando esses pesos?"
   ]
  },
  {
   "cell_type": "code",
   "execution_count": 192,
   "metadata": {},
   "outputs": [],
   "source": [
    "data_enem_MP = data_enem.copy()\n",
    "red =  data_enem_MP['Redação'] * 2\n",
    "mat =  data_enem_MP['Matemática'] * 4\n",
    "ling =  data_enem_MP['Linguagens'] * 2\n",
    "ch =  data_enem_MP['Ciências humanas'] * 1\n",
    "cn =  data_enem_MP['Ciências da natureza'] * 1\n"
   ]
  },
  {
   "cell_type": "code",
   "execution_count": 194,
   "metadata": {},
   "outputs": [
    {
     "data": {
      "text/html": [
       "<div>\n",
       "<style scoped>\n",
       "    .dataframe tbody tr th:only-of-type {\n",
       "        vertical-align: middle;\n",
       "    }\n",
       "\n",
       "    .dataframe tbody tr th {\n",
       "        vertical-align: top;\n",
       "    }\n",
       "\n",
       "    .dataframe thead th {\n",
       "        text-align: right;\n",
       "    }\n",
       "</style>\n",
       "<table border=\"1\" class=\"dataframe\">\n",
       "  <thead>\n",
       "    <tr style=\"text-align: right;\">\n",
       "      <th></th>\n",
       "      <th>Linguagens</th>\n",
       "      <th>Ciências humanas</th>\n",
       "      <th>Ciências da natureza</th>\n",
       "      <th>Matemática</th>\n",
       "      <th>Redação</th>\n",
       "      <th>Sexo</th>\n",
       "      <th>media ponderada</th>\n",
       "    </tr>\n",
       "  </thead>\n",
       "  <tbody>\n",
       "    <tr>\n",
       "      <th>0</th>\n",
       "      <td>585.669300</td>\n",
       "      <td>686.512178</td>\n",
       "      <td>390.482473</td>\n",
       "      <td>452.281333</td>\n",
       "      <td>546.371706</td>\n",
       "      <td>Homem</td>\n",
       "      <td>515.020199</td>\n",
       "    </tr>\n",
       "    <tr>\n",
       "      <th>2</th>\n",
       "      <td>622.732384</td>\n",
       "      <td>495.510719</td>\n",
       "      <td>443.183580</td>\n",
       "      <td>669.683401</td>\n",
       "      <td>684.515750</td>\n",
       "      <td>Homem</td>\n",
       "      <td>623.192417</td>\n",
       "    </tr>\n",
       "    <tr>\n",
       "      <th>3</th>\n",
       "      <td>350.164605</td>\n",
       "      <td>602.041588</td>\n",
       "      <td>413.979810</td>\n",
       "      <td>676.608952</td>\n",
       "      <td>671.237114</td>\n",
       "      <td>Homem</td>\n",
       "      <td>576.526064</td>\n",
       "    </tr>\n",
       "    <tr>\n",
       "      <th>4</th>\n",
       "      <td>384.093657</td>\n",
       "      <td>489.249140</td>\n",
       "      <td>609.758123</td>\n",
       "      <td>520.426698</td>\n",
       "      <td>744.375048</td>\n",
       "      <td>Homem</td>\n",
       "      <td>543.765146</td>\n",
       "    </tr>\n",
       "    <tr>\n",
       "      <th>5</th>\n",
       "      <td>616.043360</td>\n",
       "      <td>502.007005</td>\n",
       "      <td>497.777935</td>\n",
       "      <td>615.902547</td>\n",
       "      <td>507.365147</td>\n",
       "      <td>Homem</td>\n",
       "      <td>571.021214</td>\n",
       "    </tr>\n",
       "  </tbody>\n",
       "</table>\n",
       "</div>"
      ],
      "text/plain": [
       "   Linguagens  Ciências humanas  Ciências da natureza  Matemática     Redação  \\\n",
       "0  585.669300        686.512178            390.482473  452.281333  546.371706   \n",
       "2  622.732384        495.510719            443.183580  669.683401  684.515750   \n",
       "3  350.164605        602.041588            413.979810  676.608952  671.237114   \n",
       "4  384.093657        489.249140            609.758123  520.426698  744.375048   \n",
       "5  616.043360        502.007005            497.777935  615.902547  507.365147   \n",
       "\n",
       "    Sexo  media ponderada  \n",
       "0  Homem       515.020199  \n",
       "2  Homem       623.192417  \n",
       "3  Homem       576.526064  \n",
       "4  Homem       543.765146  \n",
       "5  Homem       571.021214  "
      ]
     },
     "execution_count": 194,
     "metadata": {},
     "output_type": "execute_result"
    }
   ],
   "source": [
    "data_enem_MP['media ponderada'] = (red + mat + ling + ch + cn)/10\n",
    "data_enem_MP.head(5)"
   ]
  },
  {
   "cell_type": "code",
   "execution_count": 198,
   "metadata": {},
   "outputs": [
    {
     "name": "stdout",
     "output_type": "stream",
     "text": [
      "     Linguagens  Ciências humanas  Ciências da natureza  Matemática  \\\n",
      "25   604.825455        447.532353            523.041011  727.181224   \n",
      "824  533.812379        611.760520            494.994598  807.877902   \n",
      "702  551.398112        637.818208            451.624683  803.769938   \n",
      "129  583.015454        434.261543            588.516699  687.621711   \n",
      "60   498.394660        668.355060            457.371963  760.136151   \n",
      "..          ...               ...                   ...         ...   \n",
      "400  515.892318        398.431513            440.731835  522.484700   \n",
      "160  539.397184        608.405447            314.400000  507.648230   \n",
      "529  416.114140        438.110249            429.881954  462.605411   \n",
      "386  537.838737        570.471430            584.935736  437.841844   \n",
      "384  444.801027        517.393097            545.891188  457.624808   \n",
      "\n",
      "        Redação            Sexo  media ponderada  \n",
      "25   870.464077          Mulher       682.987732  \n",
      "824  697.570213  Não idenficado       680.103191  \n",
      "702  652.669636           Homem       671.265814  \n",
      "129  852.273821          Mulher       664.384364  \n",
      "60   711.458481          Mulher       658.597791  \n",
      "..          ...             ...              ...  \n",
      "400  478.946903           Homem       491.878059  \n",
      "160  440.950905          Mulher       491.409454  \n",
      "529  679.843696          Mulher       491.032952  \n",
      "386  459.122741           Homem       490.069750  \n",
      "384  558.156717           Homem       489.969900  \n",
      "\n",
      "[500 rows x 7 columns]\n"
     ]
    }
   ],
   "source": [
    "data_enem_MP = data_enem_MP.sort_values(['media ponderada'], ascending=False).head(500)\n",
    "print(data_enem_MP)"
   ]
  },
  {
   "cell_type": "code",
   "execution_count": 200,
   "metadata": {},
   "outputs": [
    {
     "name": "stdout",
     "output_type": "stream",
     "text": [
      "Desvio padrão:  40.435866299464266\n"
     ]
    }
   ],
   "source": [
    "### Desvio padrão\n",
    "desvio_padrao = data_enem_MP.iloc[:500, 6].std()\n",
    "print('Desvio padrão: ', desvio_padrao)"
   ]
  },
  {
   "cell_type": "code",
   "execution_count": 202,
   "metadata": {},
   "outputs": [
    {
     "name": "stdout",
     "output_type": "stream",
     "text": [
      "Média:  557.2896772018769\n"
     ]
    }
   ],
   "source": [
    "### Média\n",
    "media = data_enem_MP.iloc[:500, 6].mean()\n",
    "print('Média: ', media)"
   ]
  },
  {
   "cell_type": "markdown",
   "metadata": {},
   "source": [
    "4- Se todos esses estudantes aplicassem para ciência da computação e existem apenas 40 vagas,qual seria a variância e média da nota dos estudantes que entraram no curso de ciência da computação?"
   ]
  },
  {
   "cell_type": "code",
   "execution_count": 212,
   "metadata": {},
   "outputs": [],
   "source": [
    "data_enem_4 = data_enem.copy()"
   ]
  },
  {
   "cell_type": "code",
   "execution_count": 213,
   "metadata": {},
   "outputs": [
    {
     "data": {
      "text/html": [
       "<div>\n",
       "<style scoped>\n",
       "    .dataframe tbody tr th:only-of-type {\n",
       "        vertical-align: middle;\n",
       "    }\n",
       "\n",
       "    .dataframe tbody tr th {\n",
       "        vertical-align: top;\n",
       "    }\n",
       "\n",
       "    .dataframe thead th {\n",
       "        text-align: right;\n",
       "    }\n",
       "</style>\n",
       "<table border=\"1\" class=\"dataframe\">\n",
       "  <thead>\n",
       "    <tr style=\"text-align: right;\">\n",
       "      <th></th>\n",
       "      <th>Linguagens</th>\n",
       "      <th>Ciências humanas</th>\n",
       "      <th>Ciências da natureza</th>\n",
       "      <th>Matemática</th>\n",
       "      <th>Redação</th>\n",
       "      <th>Sexo</th>\n",
       "      <th>media</th>\n",
       "    </tr>\n",
       "  </thead>\n",
       "  <tbody>\n",
       "    <tr>\n",
       "      <th>0</th>\n",
       "      <td>585.669300</td>\n",
       "      <td>686.512178</td>\n",
       "      <td>390.482473</td>\n",
       "      <td>452.281333</td>\n",
       "      <td>546.371706</td>\n",
       "      <td>Homem</td>\n",
       "      <td>532.263398</td>\n",
       "    </tr>\n",
       "    <tr>\n",
       "      <th>2</th>\n",
       "      <td>622.732384</td>\n",
       "      <td>495.510719</td>\n",
       "      <td>443.183580</td>\n",
       "      <td>669.683401</td>\n",
       "      <td>684.515750</td>\n",
       "      <td>Homem</td>\n",
       "      <td>583.125167</td>\n",
       "    </tr>\n",
       "    <tr>\n",
       "      <th>3</th>\n",
       "      <td>350.164605</td>\n",
       "      <td>602.041588</td>\n",
       "      <td>413.979810</td>\n",
       "      <td>676.608952</td>\n",
       "      <td>671.237114</td>\n",
       "      <td>Homem</td>\n",
       "      <td>542.806414</td>\n",
       "    </tr>\n",
       "    <tr>\n",
       "      <th>4</th>\n",
       "      <td>384.093657</td>\n",
       "      <td>489.249140</td>\n",
       "      <td>609.758123</td>\n",
       "      <td>520.426698</td>\n",
       "      <td>744.375048</td>\n",
       "      <td>Homem</td>\n",
       "      <td>549.580533</td>\n",
       "    </tr>\n",
       "    <tr>\n",
       "      <th>5</th>\n",
       "      <td>616.043360</td>\n",
       "      <td>502.007005</td>\n",
       "      <td>497.777935</td>\n",
       "      <td>615.902547</td>\n",
       "      <td>507.365147</td>\n",
       "      <td>Homem</td>\n",
       "      <td>547.819199</td>\n",
       "    </tr>\n",
       "  </tbody>\n",
       "</table>\n",
       "</div>"
      ],
      "text/plain": [
       "   Linguagens  Ciências humanas  Ciências da natureza  Matemática     Redação  \\\n",
       "0  585.669300        686.512178            390.482473  452.281333  546.371706   \n",
       "2  622.732384        495.510719            443.183580  669.683401  684.515750   \n",
       "3  350.164605        602.041588            413.979810  676.608952  671.237114   \n",
       "4  384.093657        489.249140            609.758123  520.426698  744.375048   \n",
       "5  616.043360        502.007005            497.777935  615.902547  507.365147   \n",
       "\n",
       "    Sexo       media  \n",
       "0  Homem  532.263398  \n",
       "2  Homem  583.125167  \n",
       "3  Homem  542.806414  \n",
       "4  Homem  549.580533  \n",
       "5  Homem  547.819199  "
      ]
     },
     "execution_count": 213,
     "metadata": {},
     "output_type": "execute_result"
    }
   ],
   "source": [
    "data_enem_4['media'] = (data_enem['Ciências da natureza'] + data_enem['Ciências humanas'] + data_enem['Linguagens'] + data_enem['Matemática'] + data_enem['Redação'])/5\n",
    "data_enem_4.head(5)"
   ]
  },
  {
   "cell_type": "code",
   "execution_count": 214,
   "metadata": {},
   "outputs": [
    {
     "data": {
      "text/html": [
       "<div>\n",
       "<style scoped>\n",
       "    .dataframe tbody tr th:only-of-type {\n",
       "        vertical-align: middle;\n",
       "    }\n",
       "\n",
       "    .dataframe tbody tr th {\n",
       "        vertical-align: top;\n",
       "    }\n",
       "\n",
       "    .dataframe thead th {\n",
       "        text-align: right;\n",
       "    }\n",
       "</style>\n",
       "<table border=\"1\" class=\"dataframe\">\n",
       "  <thead>\n",
       "    <tr style=\"text-align: right;\">\n",
       "      <th></th>\n",
       "      <th>Linguagens</th>\n",
       "      <th>Ciências humanas</th>\n",
       "      <th>Ciências da natureza</th>\n",
       "      <th>Matemática</th>\n",
       "      <th>Redação</th>\n",
       "      <th>Sexo</th>\n",
       "      <th>media</th>\n",
       "    </tr>\n",
       "  </thead>\n",
       "  <tbody>\n",
       "    <tr>\n",
       "      <th>880</th>\n",
       "      <td>671.524266</td>\n",
       "      <td>590.780179</td>\n",
       "      <td>546.595272</td>\n",
       "      <td>571.607337</td>\n",
       "      <td>909.379934</td>\n",
       "      <td>Homem</td>\n",
       "      <td>657.977398</td>\n",
       "    </tr>\n",
       "    <tr>\n",
       "      <th>422</th>\n",
       "      <td>804.456317</td>\n",
       "      <td>505.521842</td>\n",
       "      <td>654.759618</td>\n",
       "      <td>534.368748</td>\n",
       "      <td>772.389790</td>\n",
       "      <td>Mulher</td>\n",
       "      <td>654.299263</td>\n",
       "    </tr>\n",
       "    <tr>\n",
       "      <th>948</th>\n",
       "      <td>681.993514</td>\n",
       "      <td>607.264955</td>\n",
       "      <td>629.802349</td>\n",
       "      <td>542.751190</td>\n",
       "      <td>794.691795</td>\n",
       "      <td>Não idenficado</td>\n",
       "      <td>651.300761</td>\n",
       "    </tr>\n",
       "    <tr>\n",
       "      <th>162</th>\n",
       "      <td>624.288291</td>\n",
       "      <td>555.722737</td>\n",
       "      <td>683.228347</td>\n",
       "      <td>591.233755</td>\n",
       "      <td>769.757995</td>\n",
       "      <td>Homem</td>\n",
       "      <td>644.846225</td>\n",
       "    </tr>\n",
       "    <tr>\n",
       "      <th>944</th>\n",
       "      <td>692.452396</td>\n",
       "      <td>536.593205</td>\n",
       "      <td>628.656897</td>\n",
       "      <td>526.336362</td>\n",
       "      <td>821.040693</td>\n",
       "      <td>Mulher</td>\n",
       "      <td>641.015911</td>\n",
       "    </tr>\n",
       "    <tr>\n",
       "      <th>889</th>\n",
       "      <td>600.029214</td>\n",
       "      <td>641.687541</td>\n",
       "      <td>502.881064</td>\n",
       "      <td>540.269675</td>\n",
       "      <td>916.023211</td>\n",
       "      <td>Mulher</td>\n",
       "      <td>640.178141</td>\n",
       "    </tr>\n",
       "    <tr>\n",
       "      <th>665</th>\n",
       "      <td>646.645962</td>\n",
       "      <td>707.207390</td>\n",
       "      <td>554.583425</td>\n",
       "      <td>424.236272</td>\n",
       "      <td>850.795898</td>\n",
       "      <td>Mulher</td>\n",
       "      <td>636.693789</td>\n",
       "    </tr>\n",
       "    <tr>\n",
       "      <th>617</th>\n",
       "      <td>604.613112</td>\n",
       "      <td>653.875230</td>\n",
       "      <td>692.838858</td>\n",
       "      <td>562.622265</td>\n",
       "      <td>663.012320</td>\n",
       "      <td>Mulher</td>\n",
       "      <td>635.392357</td>\n",
       "    </tr>\n",
       "    <tr>\n",
       "      <th>25</th>\n",
       "      <td>604.825455</td>\n",
       "      <td>447.532353</td>\n",
       "      <td>523.041011</td>\n",
       "      <td>727.181224</td>\n",
       "      <td>870.464077</td>\n",
       "      <td>Mulher</td>\n",
       "      <td>634.608824</td>\n",
       "    </tr>\n",
       "    <tr>\n",
       "      <th>965</th>\n",
       "      <td>660.913894</td>\n",
       "      <td>613.882660</td>\n",
       "      <td>433.935910</td>\n",
       "      <td>580.908082</td>\n",
       "      <td>881.465882</td>\n",
       "      <td>Mulher</td>\n",
       "      <td>634.221286</td>\n",
       "    </tr>\n",
       "    <tr>\n",
       "      <th>159</th>\n",
       "      <td>638.555461</td>\n",
       "      <td>603.057072</td>\n",
       "      <td>618.010027</td>\n",
       "      <td>490.167949</td>\n",
       "      <td>820.850560</td>\n",
       "      <td>Homem</td>\n",
       "      <td>634.128214</td>\n",
       "    </tr>\n",
       "    <tr>\n",
       "      <th>896</th>\n",
       "      <td>712.925798</td>\n",
       "      <td>655.729368</td>\n",
       "      <td>531.175473</td>\n",
       "      <td>528.778683</td>\n",
       "      <td>725.564873</td>\n",
       "      <td>Mulher</td>\n",
       "      <td>630.834839</td>\n",
       "    </tr>\n",
       "    <tr>\n",
       "      <th>824</th>\n",
       "      <td>533.812379</td>\n",
       "      <td>611.760520</td>\n",
       "      <td>494.994598</td>\n",
       "      <td>807.877902</td>\n",
       "      <td>697.570213</td>\n",
       "      <td>Não idenficado</td>\n",
       "      <td>629.203122</td>\n",
       "    </tr>\n",
       "    <tr>\n",
       "      <th>129</th>\n",
       "      <td>583.015454</td>\n",
       "      <td>434.261543</td>\n",
       "      <td>588.516699</td>\n",
       "      <td>687.621711</td>\n",
       "      <td>852.273821</td>\n",
       "      <td>Mulher</td>\n",
       "      <td>629.137845</td>\n",
       "    </tr>\n",
       "    <tr>\n",
       "      <th>45</th>\n",
       "      <td>691.439400</td>\n",
       "      <td>495.652830</td>\n",
       "      <td>631.337910</td>\n",
       "      <td>522.690584</td>\n",
       "      <td>800.568075</td>\n",
       "      <td>Não idenficado</td>\n",
       "      <td>628.337760</td>\n",
       "    </tr>\n",
       "    <tr>\n",
       "      <th>906</th>\n",
       "      <td>669.585588</td>\n",
       "      <td>544.806521</td>\n",
       "      <td>594.002845</td>\n",
       "      <td>613.928050</td>\n",
       "      <td>714.891896</td>\n",
       "      <td>Homem</td>\n",
       "      <td>627.442980</td>\n",
       "    </tr>\n",
       "    <tr>\n",
       "      <th>717</th>\n",
       "      <td>717.932659</td>\n",
       "      <td>632.281914</td>\n",
       "      <td>501.671939</td>\n",
       "      <td>541.359799</td>\n",
       "      <td>738.352658</td>\n",
       "      <td>Homem</td>\n",
       "      <td>626.319794</td>\n",
       "    </tr>\n",
       "    <tr>\n",
       "      <th>845</th>\n",
       "      <td>546.407907</td>\n",
       "      <td>605.872603</td>\n",
       "      <td>544.893605</td>\n",
       "      <td>623.772896</td>\n",
       "      <td>781.179163</td>\n",
       "      <td>Mulher</td>\n",
       "      <td>620.425235</td>\n",
       "    </tr>\n",
       "    <tr>\n",
       "      <th>577</th>\n",
       "      <td>533.656386</td>\n",
       "      <td>594.503240</td>\n",
       "      <td>552.712332</td>\n",
       "      <td>609.921712</td>\n",
       "      <td>810.421042</td>\n",
       "      <td>Homem</td>\n",
       "      <td>620.242942</td>\n",
       "    </tr>\n",
       "    <tr>\n",
       "      <th>702</th>\n",
       "      <td>551.398112</td>\n",
       "      <td>637.818208</td>\n",
       "      <td>451.624683</td>\n",
       "      <td>803.769938</td>\n",
       "      <td>652.669636</td>\n",
       "      <td>Homem</td>\n",
       "      <td>619.456115</td>\n",
       "    </tr>\n",
       "    <tr>\n",
       "      <th>260</th>\n",
       "      <td>691.810072</td>\n",
       "      <td>591.297424</td>\n",
       "      <td>608.756120</td>\n",
       "      <td>662.098003</td>\n",
       "      <td>541.846701</td>\n",
       "      <td>Homem</td>\n",
       "      <td>619.161664</td>\n",
       "    </tr>\n",
       "    <tr>\n",
       "      <th>60</th>\n",
       "      <td>498.394660</td>\n",
       "      <td>668.355060</td>\n",
       "      <td>457.371963</td>\n",
       "      <td>760.136151</td>\n",
       "      <td>711.458481</td>\n",
       "      <td>Mulher</td>\n",
       "      <td>619.143263</td>\n",
       "    </tr>\n",
       "    <tr>\n",
       "      <th>376</th>\n",
       "      <td>364.096042</td>\n",
       "      <td>582.024626</td>\n",
       "      <td>523.764760</td>\n",
       "      <td>749.912621</td>\n",
       "      <td>872.188740</td>\n",
       "      <td>Não idenficado</td>\n",
       "      <td>618.397358</td>\n",
       "    </tr>\n",
       "    <tr>\n",
       "      <th>448</th>\n",
       "      <td>648.914810</td>\n",
       "      <td>763.919695</td>\n",
       "      <td>381.944225</td>\n",
       "      <td>636.391057</td>\n",
       "      <td>660.438586</td>\n",
       "      <td>Homem</td>\n",
       "      <td>618.321675</td>\n",
       "    </tr>\n",
       "    <tr>\n",
       "      <th>74</th>\n",
       "      <td>510.077956</td>\n",
       "      <td>640.031171</td>\n",
       "      <td>487.748959</td>\n",
       "      <td>574.770344</td>\n",
       "      <td>878.158739</td>\n",
       "      <td>Não idenficado</td>\n",
       "      <td>618.157434</td>\n",
       "    </tr>\n",
       "    <tr>\n",
       "      <th>789</th>\n",
       "      <td>506.263800</td>\n",
       "      <td>580.580457</td>\n",
       "      <td>609.607163</td>\n",
       "      <td>531.681047</td>\n",
       "      <td>851.550189</td>\n",
       "      <td>Mulher</td>\n",
       "      <td>615.936531</td>\n",
       "    </tr>\n",
       "    <tr>\n",
       "      <th>441</th>\n",
       "      <td>575.239781</td>\n",
       "      <td>646.209864</td>\n",
       "      <td>557.387003</td>\n",
       "      <td>565.665659</td>\n",
       "      <td>735.015073</td>\n",
       "      <td>Mulher</td>\n",
       "      <td>615.903476</td>\n",
       "    </tr>\n",
       "    <tr>\n",
       "      <th>563</th>\n",
       "      <td>584.492211</td>\n",
       "      <td>664.317809</td>\n",
       "      <td>577.319438</td>\n",
       "      <td>487.811503</td>\n",
       "      <td>754.256469</td>\n",
       "      <td>Mulher</td>\n",
       "      <td>613.639486</td>\n",
       "    </tr>\n",
       "    <tr>\n",
       "      <th>11</th>\n",
       "      <td>617.509514</td>\n",
       "      <td>685.004513</td>\n",
       "      <td>450.104243</td>\n",
       "      <td>556.460006</td>\n",
       "      <td>758.966704</td>\n",
       "      <td>Mulher</td>\n",
       "      <td>613.608996</td>\n",
       "    </tr>\n",
       "    <tr>\n",
       "      <th>694</th>\n",
       "      <td>497.493880</td>\n",
       "      <td>609.839007</td>\n",
       "      <td>528.413513</td>\n",
       "      <td>737.175029</td>\n",
       "      <td>693.739043</td>\n",
       "      <td>Mulher</td>\n",
       "      <td>613.332094</td>\n",
       "    </tr>\n",
       "    <tr>\n",
       "      <th>218</th>\n",
       "      <td>595.316940</td>\n",
       "      <td>593.843425</td>\n",
       "      <td>618.770310</td>\n",
       "      <td>579.690267</td>\n",
       "      <td>669.217161</td>\n",
       "      <td>Mulher</td>\n",
       "      <td>611.367621</td>\n",
       "    </tr>\n",
       "    <tr>\n",
       "      <th>47</th>\n",
       "      <td>627.589452</td>\n",
       "      <td>641.521997</td>\n",
       "      <td>529.672562</td>\n",
       "      <td>659.953536</td>\n",
       "      <td>593.601464</td>\n",
       "      <td>Mulher</td>\n",
       "      <td>610.467802</td>\n",
       "    </tr>\n",
       "    <tr>\n",
       "      <th>221</th>\n",
       "      <td>491.846998</td>\n",
       "      <td>612.190697</td>\n",
       "      <td>509.061137</td>\n",
       "      <td>510.292672</td>\n",
       "      <td>928.835434</td>\n",
       "      <td>Homem</td>\n",
       "      <td>610.445388</td>\n",
       "    </tr>\n",
       "    <tr>\n",
       "      <th>719</th>\n",
       "      <td>518.513118</td>\n",
       "      <td>502.422969</td>\n",
       "      <td>529.846508</td>\n",
       "      <td>646.595929</td>\n",
       "      <td>852.181492</td>\n",
       "      <td>Mulher</td>\n",
       "      <td>609.912003</td>\n",
       "    </tr>\n",
       "    <tr>\n",
       "      <th>110</th>\n",
       "      <td>637.039487</td>\n",
       "      <td>565.855331</td>\n",
       "      <td>516.038561</td>\n",
       "      <td>447.359454</td>\n",
       "      <td>881.948528</td>\n",
       "      <td>Mulher</td>\n",
       "      <td>609.648272</td>\n",
       "    </tr>\n",
       "    <tr>\n",
       "      <th>330</th>\n",
       "      <td>510.016309</td>\n",
       "      <td>681.988065</td>\n",
       "      <td>558.167431</td>\n",
       "      <td>501.948490</td>\n",
       "      <td>795.137057</td>\n",
       "      <td>Homem</td>\n",
       "      <td>609.451470</td>\n",
       "    </tr>\n",
       "    <tr>\n",
       "      <th>918</th>\n",
       "      <td>608.445532</td>\n",
       "      <td>660.036011</td>\n",
       "      <td>629.769402</td>\n",
       "      <td>538.822122</td>\n",
       "      <td>607.284384</td>\n",
       "      <td>Mulher</td>\n",
       "      <td>608.871490</td>\n",
       "    </tr>\n",
       "    <tr>\n",
       "      <th>495</th>\n",
       "      <td>449.133097</td>\n",
       "      <td>706.933553</td>\n",
       "      <td>596.943053</td>\n",
       "      <td>602.821605</td>\n",
       "      <td>671.907317</td>\n",
       "      <td>Mulher</td>\n",
       "      <td>605.547725</td>\n",
       "    </tr>\n",
       "    <tr>\n",
       "      <th>356</th>\n",
       "      <td>718.865684</td>\n",
       "      <td>631.445119</td>\n",
       "      <td>336.935887</td>\n",
       "      <td>504.503988</td>\n",
       "      <td>825.715364</td>\n",
       "      <td>Homem</td>\n",
       "      <td>603.493208</td>\n",
       "    </tr>\n",
       "    <tr>\n",
       "      <th>867</th>\n",
       "      <td>636.591715</td>\n",
       "      <td>596.798902</td>\n",
       "      <td>531.650834</td>\n",
       "      <td>620.527262</td>\n",
       "      <td>630.874872</td>\n",
       "      <td>Mulher</td>\n",
       "      <td>603.288717</td>\n",
       "    </tr>\n",
       "  </tbody>\n",
       "</table>\n",
       "</div>"
      ],
      "text/plain": [
       "     Linguagens  Ciências humanas  Ciências da natureza  Matemática  \\\n",
       "880  671.524266        590.780179            546.595272  571.607337   \n",
       "422  804.456317        505.521842            654.759618  534.368748   \n",
       "948  681.993514        607.264955            629.802349  542.751190   \n",
       "162  624.288291        555.722737            683.228347  591.233755   \n",
       "944  692.452396        536.593205            628.656897  526.336362   \n",
       "889  600.029214        641.687541            502.881064  540.269675   \n",
       "665  646.645962        707.207390            554.583425  424.236272   \n",
       "617  604.613112        653.875230            692.838858  562.622265   \n",
       "25   604.825455        447.532353            523.041011  727.181224   \n",
       "965  660.913894        613.882660            433.935910  580.908082   \n",
       "159  638.555461        603.057072            618.010027  490.167949   \n",
       "896  712.925798        655.729368            531.175473  528.778683   \n",
       "824  533.812379        611.760520            494.994598  807.877902   \n",
       "129  583.015454        434.261543            588.516699  687.621711   \n",
       "45   691.439400        495.652830            631.337910  522.690584   \n",
       "906  669.585588        544.806521            594.002845  613.928050   \n",
       "717  717.932659        632.281914            501.671939  541.359799   \n",
       "845  546.407907        605.872603            544.893605  623.772896   \n",
       "577  533.656386        594.503240            552.712332  609.921712   \n",
       "702  551.398112        637.818208            451.624683  803.769938   \n",
       "260  691.810072        591.297424            608.756120  662.098003   \n",
       "60   498.394660        668.355060            457.371963  760.136151   \n",
       "376  364.096042        582.024626            523.764760  749.912621   \n",
       "448  648.914810        763.919695            381.944225  636.391057   \n",
       "74   510.077956        640.031171            487.748959  574.770344   \n",
       "789  506.263800        580.580457            609.607163  531.681047   \n",
       "441  575.239781        646.209864            557.387003  565.665659   \n",
       "563  584.492211        664.317809            577.319438  487.811503   \n",
       "11   617.509514        685.004513            450.104243  556.460006   \n",
       "694  497.493880        609.839007            528.413513  737.175029   \n",
       "218  595.316940        593.843425            618.770310  579.690267   \n",
       "47   627.589452        641.521997            529.672562  659.953536   \n",
       "221  491.846998        612.190697            509.061137  510.292672   \n",
       "719  518.513118        502.422969            529.846508  646.595929   \n",
       "110  637.039487        565.855331            516.038561  447.359454   \n",
       "330  510.016309        681.988065            558.167431  501.948490   \n",
       "918  608.445532        660.036011            629.769402  538.822122   \n",
       "495  449.133097        706.933553            596.943053  602.821605   \n",
       "356  718.865684        631.445119            336.935887  504.503988   \n",
       "867  636.591715        596.798902            531.650834  620.527262   \n",
       "\n",
       "        Redação            Sexo       media  \n",
       "880  909.379934           Homem  657.977398  \n",
       "422  772.389790          Mulher  654.299263  \n",
       "948  794.691795  Não idenficado  651.300761  \n",
       "162  769.757995           Homem  644.846225  \n",
       "944  821.040693          Mulher  641.015911  \n",
       "889  916.023211          Mulher  640.178141  \n",
       "665  850.795898          Mulher  636.693789  \n",
       "617  663.012320          Mulher  635.392357  \n",
       "25   870.464077          Mulher  634.608824  \n",
       "965  881.465882          Mulher  634.221286  \n",
       "159  820.850560           Homem  634.128214  \n",
       "896  725.564873          Mulher  630.834839  \n",
       "824  697.570213  Não idenficado  629.203122  \n",
       "129  852.273821          Mulher  629.137845  \n",
       "45   800.568075  Não idenficado  628.337760  \n",
       "906  714.891896           Homem  627.442980  \n",
       "717  738.352658           Homem  626.319794  \n",
       "845  781.179163          Mulher  620.425235  \n",
       "577  810.421042           Homem  620.242942  \n",
       "702  652.669636           Homem  619.456115  \n",
       "260  541.846701           Homem  619.161664  \n",
       "60   711.458481          Mulher  619.143263  \n",
       "376  872.188740  Não idenficado  618.397358  \n",
       "448  660.438586           Homem  618.321675  \n",
       "74   878.158739  Não idenficado  618.157434  \n",
       "789  851.550189          Mulher  615.936531  \n",
       "441  735.015073          Mulher  615.903476  \n",
       "563  754.256469          Mulher  613.639486  \n",
       "11   758.966704          Mulher  613.608996  \n",
       "694  693.739043          Mulher  613.332094  \n",
       "218  669.217161          Mulher  611.367621  \n",
       "47   593.601464          Mulher  610.467802  \n",
       "221  928.835434           Homem  610.445388  \n",
       "719  852.181492          Mulher  609.912003  \n",
       "110  881.948528          Mulher  609.648272  \n",
       "330  795.137057           Homem  609.451470  \n",
       "918  607.284384          Mulher  608.871490  \n",
       "495  671.907317          Mulher  605.547725  \n",
       "356  825.715364           Homem  603.493208  \n",
       "867  630.874872          Mulher  603.288717  "
      ]
     },
     "execution_count": 214,
     "metadata": {},
     "output_type": "execute_result"
    }
   ],
   "source": [
    "data_enem_4 = data_enem_4.sort_values(['media'], ascending=False).head(40)\n",
    "data_enem_4"
   ]
  },
  {
   "cell_type": "code",
   "execution_count": 216,
   "metadata": {},
   "outputs": [
    {
     "name": "stdout",
     "output_type": "stream",
     "text": [
      "Média dos alunos que passaram:  623.6039618416469\n"
     ]
    }
   ],
   "source": [
    "### Media dos alunos que passaram\n",
    "media = data_enem_4['media'].mean()\n",
    "print('Média dos alunos que passaram: ', media)"
   ]
  },
  {
   "cell_type": "code",
   "execution_count": 217,
   "metadata": {},
   "outputs": [],
   "source": [
    "def variance(x):\n",
    "    return np.sum((x - x.mean())**2)/len(x)"
   ]
  },
  {
   "cell_type": "code",
   "execution_count": 218,
   "metadata": {},
   "outputs": [
    {
     "name": "stdout",
     "output_type": "stream",
     "text": [
      "Variância:  193.93831868051447\n"
     ]
    }
   ],
   "source": [
    "variancia = variance(data_enem_4['media'])\n",
    "print('Variância: ', variancia)"
   ]
  },
  {
   "cell_type": "markdown",
   "metadata": {},
   "source": [
    "5- Qual o valor do teto do terceiro quartil para as disciplinas de matemática e linguagens?"
   ]
  },
  {
   "cell_type": "code",
   "execution_count": 227,
   "metadata": {},
   "outputs": [
    {
     "data": {
      "text/html": [
       "<div>\n",
       "<style scoped>\n",
       "    .dataframe tbody tr th:only-of-type {\n",
       "        vertical-align: middle;\n",
       "    }\n",
       "\n",
       "    .dataframe tbody tr th {\n",
       "        vertical-align: top;\n",
       "    }\n",
       "\n",
       "    .dataframe thead th {\n",
       "        text-align: right;\n",
       "    }\n",
       "</style>\n",
       "<table border=\"1\" class=\"dataframe\">\n",
       "  <thead>\n",
       "    <tr style=\"text-align: right;\">\n",
       "      <th></th>\n",
       "      <th>Linguagens</th>\n",
       "      <th>Ciências humanas</th>\n",
       "      <th>Ciências da natureza</th>\n",
       "      <th>Matemática</th>\n",
       "      <th>Redação</th>\n",
       "      <th>Sexo</th>\n",
       "    </tr>\n",
       "  </thead>\n",
       "  <tbody>\n",
       "    <tr>\n",
       "      <th>567</th>\n",
       "      <td>456.342856</td>\n",
       "      <td>616.367091</td>\n",
       "      <td>587.177451</td>\n",
       "      <td>319.800000</td>\n",
       "      <td>417.106303</td>\n",
       "      <td>Mulher</td>\n",
       "    </tr>\n",
       "    <tr>\n",
       "      <th>430</th>\n",
       "      <td>483.227062</td>\n",
       "      <td>367.087840</td>\n",
       "      <td>596.598957</td>\n",
       "      <td>319.800000</td>\n",
       "      <td>765.149125</td>\n",
       "      <td>Homem</td>\n",
       "    </tr>\n",
       "    <tr>\n",
       "      <th>521</th>\n",
       "      <td>541.042135</td>\n",
       "      <td>634.655425</td>\n",
       "      <td>486.854257</td>\n",
       "      <td>319.800000</td>\n",
       "      <td>440.636205</td>\n",
       "      <td>Mulher</td>\n",
       "    </tr>\n",
       "    <tr>\n",
       "      <th>199</th>\n",
       "      <td>569.053376</td>\n",
       "      <td>594.926788</td>\n",
       "      <td>638.614837</td>\n",
       "      <td>319.800000</td>\n",
       "      <td>833.386035</td>\n",
       "      <td>Homem</td>\n",
       "    </tr>\n",
       "    <tr>\n",
       "      <th>651</th>\n",
       "      <td>571.635876</td>\n",
       "      <td>424.514676</td>\n",
       "      <td>532.292177</td>\n",
       "      <td>319.800000</td>\n",
       "      <td>415.759955</td>\n",
       "      <td>Homem</td>\n",
       "    </tr>\n",
       "    <tr>\n",
       "      <th>...</th>\n",
       "      <td>...</td>\n",
       "      <td>...</td>\n",
       "      <td>...</td>\n",
       "      <td>...</td>\n",
       "      <td>...</td>\n",
       "      <td>...</td>\n",
       "    </tr>\n",
       "    <tr>\n",
       "      <th>476</th>\n",
       "      <td>402.462297</td>\n",
       "      <td>549.138401</td>\n",
       "      <td>529.270997</td>\n",
       "      <td>750.205360</td>\n",
       "      <td>658.313174</td>\n",
       "      <td>Homem</td>\n",
       "    </tr>\n",
       "    <tr>\n",
       "      <th>60</th>\n",
       "      <td>498.394660</td>\n",
       "      <td>668.355060</td>\n",
       "      <td>457.371963</td>\n",
       "      <td>760.136151</td>\n",
       "      <td>711.458481</td>\n",
       "      <td>Mulher</td>\n",
       "    </tr>\n",
       "    <tr>\n",
       "      <th>989</th>\n",
       "      <td>462.051713</td>\n",
       "      <td>512.986241</td>\n",
       "      <td>506.405210</td>\n",
       "      <td>787.771672</td>\n",
       "      <td>692.814673</td>\n",
       "      <td>Homem</td>\n",
       "    </tr>\n",
       "    <tr>\n",
       "      <th>702</th>\n",
       "      <td>551.398112</td>\n",
       "      <td>637.818208</td>\n",
       "      <td>451.624683</td>\n",
       "      <td>803.769938</td>\n",
       "      <td>652.669636</td>\n",
       "      <td>Homem</td>\n",
       "    </tr>\n",
       "    <tr>\n",
       "      <th>824</th>\n",
       "      <td>533.812379</td>\n",
       "      <td>611.760520</td>\n",
       "      <td>494.994598</td>\n",
       "      <td>807.877902</td>\n",
       "      <td>697.570213</td>\n",
       "      <td>Não idenficado</td>\n",
       "    </tr>\n",
       "  </tbody>\n",
       "</table>\n",
       "<p>548 rows × 6 columns</p>\n",
       "</div>"
      ],
      "text/plain": [
       "     Linguagens  Ciências humanas  Ciências da natureza  Matemática  \\\n",
       "567  456.342856        616.367091            587.177451  319.800000   \n",
       "430  483.227062        367.087840            596.598957  319.800000   \n",
       "521  541.042135        634.655425            486.854257  319.800000   \n",
       "199  569.053376        594.926788            638.614837  319.800000   \n",
       "651  571.635876        424.514676            532.292177  319.800000   \n",
       "..          ...               ...                   ...         ...   \n",
       "476  402.462297        549.138401            529.270997  750.205360   \n",
       "60   498.394660        668.355060            457.371963  760.136151   \n",
       "989  462.051713        512.986241            506.405210  787.771672   \n",
       "702  551.398112        637.818208            451.624683  803.769938   \n",
       "824  533.812379        611.760520            494.994598  807.877902   \n",
       "\n",
       "        Redação            Sexo  \n",
       "567  417.106303          Mulher  \n",
       "430  765.149125           Homem  \n",
       "521  440.636205          Mulher  \n",
       "199  833.386035           Homem  \n",
       "651  415.759955           Homem  \n",
       "..          ...             ...  \n",
       "476  658.313174           Homem  \n",
       "60   711.458481          Mulher  \n",
       "989  692.814673           Homem  \n",
       "702  652.669636           Homem  \n",
       "824  697.570213  Não idenficado  \n",
       "\n",
       "[548 rows x 6 columns]"
      ]
     },
     "execution_count": 227,
     "metadata": {},
     "output_type": "execute_result"
    }
   ],
   "source": [
    "quatil = data_enem.copy()\n",
    "quatil.head(5)\n",
    "quatil = quatil.sort_values(['Matemática', 'Linguagens'], ascending=True)\n",
    "quatil"
   ]
  },
  {
   "cell_type": "code",
   "execution_count": 232,
   "metadata": {},
   "outputs": [
    {
     "name": "stdout",
     "output_type": "stream",
     "text": [
      "Valores do quartil 3:  591.6397249571 592.3729088976\n",
      "Média do quartil 3:  592\n"
     ]
    }
   ],
   "source": [
    "## Fazendo a conta manualmente do quartil 3\n",
    "n = len(quatil.index)\n",
    "quartil_3 = int((3 * (n + 1)) / 4) ## Pegando so a parte inteira\n",
    "valor_quartil_1_mat = quatil.iloc[quartil_3, 3]\n",
    "valor_quartil_2_mat = quatil.iloc[quartil_3+1, 3]\n",
    "\n",
    "print('Valores do quartil 3: ', valor_quartil_1_mat, valor_quartil_2_mat)\n",
    "\n",
    "media_quartil = int((valor_quartil_1_mat + valor_quartil_2_mat) / 2)\n",
    "print('Média do quartil 3: ', media_quartil)"
   ]
  },
  {
   "cell_type": "code",
   "execution_count": 233,
   "metadata": {},
   "outputs": [
    {
     "data": {
      "text/html": [
       "<div>\n",
       "<style scoped>\n",
       "    .dataframe tbody tr th:only-of-type {\n",
       "        vertical-align: middle;\n",
       "    }\n",
       "\n",
       "    .dataframe tbody tr th {\n",
       "        vertical-align: top;\n",
       "    }\n",
       "\n",
       "    .dataframe thead th {\n",
       "        text-align: right;\n",
       "    }\n",
       "</style>\n",
       "<table border=\"1\" class=\"dataframe\">\n",
       "  <thead>\n",
       "    <tr style=\"text-align: right;\">\n",
       "      <th></th>\n",
       "      <th>Linguagens</th>\n",
       "      <th>Ciências humanas</th>\n",
       "      <th>Ciências da natureza</th>\n",
       "      <th>Matemática</th>\n",
       "      <th>Redação</th>\n",
       "    </tr>\n",
       "  </thead>\n",
       "  <tbody>\n",
       "    <tr>\n",
       "      <th>count</th>\n",
       "      <td>548.000000</td>\n",
       "      <td>548.000000</td>\n",
       "      <td>548.000000</td>\n",
       "      <td>548.000000</td>\n",
       "      <td>548.000000</td>\n",
       "    </tr>\n",
       "    <tr>\n",
       "      <th>mean</th>\n",
       "      <td>517.467162</td>\n",
       "      <td>528.351454</td>\n",
       "      <td>502.142101</td>\n",
       "      <td>537.172480</td>\n",
       "      <td>641.193123</td>\n",
       "    </tr>\n",
       "    <tr>\n",
       "      <th>std</th>\n",
       "      <td>82.113520</td>\n",
       "      <td>76.786787</td>\n",
       "      <td>78.419720</td>\n",
       "      <td>87.850751</td>\n",
       "      <td>115.578585</td>\n",
       "    </tr>\n",
       "    <tr>\n",
       "      <th>min</th>\n",
       "      <td>287.000000</td>\n",
       "      <td>289.900000</td>\n",
       "      <td>314.400000</td>\n",
       "      <td>319.800000</td>\n",
       "      <td>290.308608</td>\n",
       "    </tr>\n",
       "    <tr>\n",
       "      <th>25%</th>\n",
       "      <td>462.647968</td>\n",
       "      <td>475.858622</td>\n",
       "      <td>449.998135</td>\n",
       "      <td>477.018471</td>\n",
       "      <td>558.524958</td>\n",
       "    </tr>\n",
       "    <tr>\n",
       "      <th>50%</th>\n",
       "      <td>517.128831</td>\n",
       "      <td>528.503263</td>\n",
       "      <td>502.935209</td>\n",
       "      <td>532.961486</td>\n",
       "      <td>639.602691</td>\n",
       "    </tr>\n",
       "    <tr>\n",
       "      <th>75%</th>\n",
       "      <td>572.645407</td>\n",
       "      <td>584.115231</td>\n",
       "      <td>552.260535</td>\n",
       "      <td>591.335247</td>\n",
       "      <td>715.550093</td>\n",
       "    </tr>\n",
       "    <tr>\n",
       "      <th>max</th>\n",
       "      <td>804.456317</td>\n",
       "      <td>763.919695</td>\n",
       "      <td>802.004568</td>\n",
       "      <td>807.877902</td>\n",
       "      <td>931.305275</td>\n",
       "    </tr>\n",
       "  </tbody>\n",
       "</table>\n",
       "</div>"
      ],
      "text/plain": [
       "       Linguagens  Ciências humanas  Ciências da natureza  Matemática  \\\n",
       "count  548.000000        548.000000            548.000000  548.000000   \n",
       "mean   517.467162        528.351454            502.142101  537.172480   \n",
       "std     82.113520         76.786787             78.419720   87.850751   \n",
       "min    287.000000        289.900000            314.400000  319.800000   \n",
       "25%    462.647968        475.858622            449.998135  477.018471   \n",
       "50%    517.128831        528.503263            502.935209  532.961486   \n",
       "75%    572.645407        584.115231            552.260535  591.335247   \n",
       "max    804.456317        763.919695            802.004568  807.877902   \n",
       "\n",
       "          Redação  \n",
       "count  548.000000  \n",
       "mean   641.193123  \n",
       "std    115.578585  \n",
       "min    290.308608  \n",
       "25%    558.524958  \n",
       "50%    639.602691  \n",
       "75%    715.550093  \n",
       "max    931.305275  "
      ]
     },
     "execution_count": 233,
     "metadata": {},
     "output_type": "execute_result"
    }
   ],
   "source": [
    "quatil.describe()"
   ]
  },
  {
   "cell_type": "code",
   "execution_count": 236,
   "metadata": {},
   "outputs": [
    {
     "data": {
      "text/plain": [
       "591.335247441725"
      ]
     },
     "execution_count": 236,
     "metadata": {},
     "output_type": "execute_result"
    }
   ],
   "source": [
    "teto_quartil3_mat = quatil.describe().loc['75%', 'Matemática']\n",
    "teto_quartil3_mat"
   ]
  },
  {
   "cell_type": "code",
   "execution_count": 237,
   "metadata": {},
   "outputs": [
    {
     "data": {
      "text/plain": [
       "572.64540727285"
      ]
     },
     "execution_count": 237,
     "metadata": {},
     "output_type": "execute_result"
    }
   ],
   "source": [
    "teto_quartil3_ling = quatil.describe().loc['75%', 'Linguagens']\n",
    "teto_quartil3_ling"
   ]
  },
  {
   "cell_type": "markdown",
   "metadata": {},
   "source": [
    "6- Faça o histograma de Redação e Linguagens, de 20 em 20 pontos. Podemos dizer que são histogramas simétricos, justifique e classifique senão assimétricas?"
   ]
  },
  {
   "cell_type": "code",
   "execution_count": 238,
   "metadata": {},
   "outputs": [],
   "source": [
    "### bibliotecas para visualizacao de dados\n",
    "import seaborn as sns\n",
    "import matplotlib.pyplot as plt"
   ]
  },
  {
   "cell_type": "code",
   "execution_count": 242,
   "metadata": {},
   "outputs": [
    {
     "data": {
      "text/html": [
       "<div>\n",
       "<style scoped>\n",
       "    .dataframe tbody tr th:only-of-type {\n",
       "        vertical-align: middle;\n",
       "    }\n",
       "\n",
       "    .dataframe tbody tr th {\n",
       "        vertical-align: top;\n",
       "    }\n",
       "\n",
       "    .dataframe thead th {\n",
       "        text-align: right;\n",
       "    }\n",
       "</style>\n",
       "<table border=\"1\" class=\"dataframe\">\n",
       "  <thead>\n",
       "    <tr style=\"text-align: right;\">\n",
       "      <th></th>\n",
       "      <th>Redação</th>\n",
       "      <th>Linguagens</th>\n",
       "    </tr>\n",
       "  </thead>\n",
       "  <tbody>\n",
       "    <tr>\n",
       "      <th>0</th>\n",
       "      <td>546.371706</td>\n",
       "      <td>585.669300</td>\n",
       "    </tr>\n",
       "    <tr>\n",
       "      <th>2</th>\n",
       "      <td>684.515750</td>\n",
       "      <td>622.732384</td>\n",
       "    </tr>\n",
       "    <tr>\n",
       "      <th>3</th>\n",
       "      <td>671.237114</td>\n",
       "      <td>350.164605</td>\n",
       "    </tr>\n",
       "    <tr>\n",
       "      <th>4</th>\n",
       "      <td>744.375048</td>\n",
       "      <td>384.093657</td>\n",
       "    </tr>\n",
       "    <tr>\n",
       "      <th>5</th>\n",
       "      <td>507.365147</td>\n",
       "      <td>616.043360</td>\n",
       "    </tr>\n",
       "    <tr>\n",
       "      <th>...</th>\n",
       "      <td>...</td>\n",
       "      <td>...</td>\n",
       "    </tr>\n",
       "    <tr>\n",
       "      <th>990</th>\n",
       "      <td>795.671459</td>\n",
       "      <td>510.183170</td>\n",
       "    </tr>\n",
       "    <tr>\n",
       "      <th>993</th>\n",
       "      <td>579.596477</td>\n",
       "      <td>460.925597</td>\n",
       "    </tr>\n",
       "    <tr>\n",
       "      <th>994</th>\n",
       "      <td>566.635561</td>\n",
       "      <td>502.990616</td>\n",
       "    </tr>\n",
       "    <tr>\n",
       "      <th>996</th>\n",
       "      <td>715.984249</td>\n",
       "      <td>457.755594</td>\n",
       "    </tr>\n",
       "    <tr>\n",
       "      <th>998</th>\n",
       "      <td>593.392939</td>\n",
       "      <td>495.804002</td>\n",
       "    </tr>\n",
       "  </tbody>\n",
       "</table>\n",
       "<p>548 rows × 2 columns</p>\n",
       "</div>"
      ],
      "text/plain": [
       "        Redação  Linguagens\n",
       "0    546.371706  585.669300\n",
       "2    684.515750  622.732384\n",
       "3    671.237114  350.164605\n",
       "4    744.375048  384.093657\n",
       "5    507.365147  616.043360\n",
       "..          ...         ...\n",
       "990  795.671459  510.183170\n",
       "993  579.596477  460.925597\n",
       "994  566.635561  502.990616\n",
       "996  715.984249  457.755594\n",
       "998  593.392939  495.804002\n",
       "\n",
       "[548 rows x 2 columns]"
      ]
     },
     "execution_count": 242,
     "metadata": {},
     "output_type": "execute_result"
    }
   ],
   "source": [
    "histograma = data_enem[['Redação', 'Linguagens']].copy()\n",
    "histograma"
   ]
  },
  {
   "cell_type": "code",
   "execution_count": 244,
   "metadata": {},
   "outputs": [
    {
     "data": {
      "text/plain": [
       "<Figure size 800x1000 with 0 Axes>"
      ]
     },
     "metadata": {},
     "output_type": "display_data"
    },
    {
     "data": {
      "image/png": "[encoded data removed]",
      "text/plain": [
       "<Figure size 500x500 with 1 Axes>"
      ]
     },
     "metadata": {},
     "output_type": "display_data"
    },
    {
     "data": {
      "text/plain": [
       "<Figure size 800x1000 with 0 Axes>"
      ]
     },
     "metadata": {},
     "output_type": "display_data"
    },
    {
     "data": {
      "image/png": "[encoded data removed]",
      "text/plain": [
       "<Figure size 500x500 with 1 Axes>"
      ]
     },
     "metadata": {},
     "output_type": "display_data"
    }
   ],
   "source": [
    "plt.rcParams['figure.figsize'] = [8, 10] ## Tamanho do gráfico de 8 por 10\n",
    "sns.set_theme()\n",
    "# create distplots\n",
    "for column in histograma.select_dtypes(include=np.number).columns:\n",
    "    plt.figure()\n",
    "    sns.displot(data = histograma , x = column, kde= True, binwidth=20)\n",
    "    plt.title(\"Histograma: \"+column)"
   ]
  },
  {
   "cell_type": "markdown",
   "metadata": {},
   "source": [
    "Sim eles são simétricos."
   ]
  },
  {
   "cell_type": "markdown",
   "metadata": {},
   "source": [
    "7- Agora coloque um range fixo de 0 até 1000, você ainda tem a mesma opinião quanto a simetria? \n",
    "\n",
    "[plt.hist(dado,bins=_,range=[0,1000])]"
   ]
  },
  {
   "cell_type": "code",
   "execution_count": 251,
   "metadata": {},
   "outputs": [
    {
     "data": {
      "image/png": "[encoded data removed]",
      "text/plain": [
       "<Figure size 800x1000 with 1 Axes>"
      ]
     },
     "metadata": {},
     "output_type": "display_data"
    },
    {
     "data": {
      "image/png": "[encoded data removed]",
      "text/plain": [
       "<Figure size 800x1000 with 1 Axes>"
      ]
     },
     "metadata": {},
     "output_type": "display_data"
    }
   ],
   "source": [
    "plt.rcParams['figure.figsize'] = [8, 10] ## Tamanho do gráfico de 8 por 10\n",
    "sns.set_theme()\n",
    "\n",
    "for column in histograma.select_dtypes(include=np.number).columns:\n",
    "    plt.figure()\n",
    "    plt.hist(histograma[column], bins=20, range=[0, 1000])  # Use o número desejado de bins\n",
    "    plt.title(\"Histograma: \" + column)\n",
    "\n",
    "\n",
    "# # create distplots\n",
    "# for column in histograma.select_dtypes(include=np.number).columns:\n",
    "#     plt.figure()\n",
    "#     sns.displot(data = histograma , x = column, kde= True, binwidth=20)\n",
    "#     plt.title(\"Histograma: \"+column)"
   ]
  },
  {
   "cell_type": "markdown",
   "metadata": {},
   "source": [
    "Sim, ainda sim esta simetrico"
   ]
  },
  {
   "cell_type": "markdown",
   "metadata": {},
   "source": [
    "8- Faça um boxplot do quartil de todas as disciplinas de ciências da natureza e redação. É possível enxergar outliers?Utilize o método IQR."
   ]
  },
  {
   "cell_type": "code",
   "execution_count": 253,
   "metadata": {},
   "outputs": [
    {
     "data": {
      "text/html": [
       "<div>\n",
       "<style scoped>\n",
       "    .dataframe tbody tr th:only-of-type {\n",
       "        vertical-align: middle;\n",
       "    }\n",
       "\n",
       "    .dataframe tbody tr th {\n",
       "        vertical-align: top;\n",
       "    }\n",
       "\n",
       "    .dataframe thead th {\n",
       "        text-align: right;\n",
       "    }\n",
       "</style>\n",
       "<table border=\"1\" class=\"dataframe\">\n",
       "  <thead>\n",
       "    <tr style=\"text-align: right;\">\n",
       "      <th></th>\n",
       "      <th>Redação</th>\n",
       "      <th>Ciências da natureza</th>\n",
       "    </tr>\n",
       "  </thead>\n",
       "  <tbody>\n",
       "    <tr>\n",
       "      <th>0</th>\n",
       "      <td>546.371706</td>\n",
       "      <td>390.482473</td>\n",
       "    </tr>\n",
       "    <tr>\n",
       "      <th>2</th>\n",
       "      <td>684.515750</td>\n",
       "      <td>443.183580</td>\n",
       "    </tr>\n",
       "    <tr>\n",
       "      <th>3</th>\n",
       "      <td>671.237114</td>\n",
       "      <td>413.979810</td>\n",
       "    </tr>\n",
       "    <tr>\n",
       "      <th>4</th>\n",
       "      <td>744.375048</td>\n",
       "      <td>609.758123</td>\n",
       "    </tr>\n",
       "    <tr>\n",
       "      <th>5</th>\n",
       "      <td>507.365147</td>\n",
       "      <td>497.777935</td>\n",
       "    </tr>\n",
       "    <tr>\n",
       "      <th>...</th>\n",
       "      <td>...</td>\n",
       "      <td>...</td>\n",
       "    </tr>\n",
       "    <tr>\n",
       "      <th>990</th>\n",
       "      <td>795.671459</td>\n",
       "      <td>557.957321</td>\n",
       "    </tr>\n",
       "    <tr>\n",
       "      <th>993</th>\n",
       "      <td>579.596477</td>\n",
       "      <td>528.010191</td>\n",
       "    </tr>\n",
       "    <tr>\n",
       "      <th>994</th>\n",
       "      <td>566.635561</td>\n",
       "      <td>554.934948</td>\n",
       "    </tr>\n",
       "    <tr>\n",
       "      <th>996</th>\n",
       "      <td>715.984249</td>\n",
       "      <td>542.028624</td>\n",
       "    </tr>\n",
       "    <tr>\n",
       "      <th>998</th>\n",
       "      <td>593.392939</td>\n",
       "      <td>414.167228</td>\n",
       "    </tr>\n",
       "  </tbody>\n",
       "</table>\n",
       "<p>548 rows × 2 columns</p>\n",
       "</div>"
      ],
      "text/plain": [
       "        Redação  Ciências da natureza\n",
       "0    546.371706            390.482473\n",
       "2    684.515750            443.183580\n",
       "3    671.237114            413.979810\n",
       "4    744.375048            609.758123\n",
       "5    507.365147            497.777935\n",
       "..          ...                   ...\n",
       "990  795.671459            557.957321\n",
       "993  579.596477            528.010191\n",
       "994  566.635561            554.934948\n",
       "996  715.984249            542.028624\n",
       "998  593.392939            414.167228\n",
       "\n",
       "[548 rows x 2 columns]"
      ]
     },
     "execution_count": 253,
     "metadata": {},
     "output_type": "execute_result"
    }
   ],
   "source": [
    "boxplot = data_enem[['Redação', 'Ciências da natureza']].copy()\n",
    "boxplot"
   ]
  },
  {
   "cell_type": "code",
   "execution_count": 254,
   "metadata": {},
   "outputs": [
    {
     "data": {
      "image/png": "[encoded data removed]",
      "text/plain": [
       "<Figure size 800x400 with 1 Axes>"
      ]
     },
     "metadata": {},
     "output_type": "display_data"
    },
    {
     "data": {
      "image/png": "[encoded data removed]",
      "text/plain": [
       "<Figure size 800x400 with 1 Axes>"
      ]
     },
     "metadata": {},
     "output_type": "display_data"
    }
   ],
   "source": [
    "plt.rcParams['figure.figsize'] = [8, 4]\n",
    "sns.set_theme()\n",
    "\n",
    "### para cada uma das colunas numericas roda o boxplot\n",
    "for column in boxplot.select_dtypes(include=np.number).columns:\n",
    "    plt.figure()\n",
    "    sns.boxplot(data = boxplot , x = column, color='cyan',showfliers=True)\n",
    "    plt.title(\"Boxplot: \"+column )"
   ]
  },
  {
   "cell_type": "markdown",
   "metadata": {},
   "source": [
    "#### 2. Metodo do IQR :\n",
    "O método IQR (distância inter-quartil em inglês) ve a distancia da amplitude dos quartis:"
   ]
  },
  {
   "cell_type": "code",
   "execution_count": 255,
   "metadata": {},
   "outputs": [],
   "source": [
    "def find_outlier_iqr(dataset, colname):\n",
    "    q25, q75 = np.quantile(dataset[colname], 0.25), np.quantile(dataset[colname], 0.75)\n",
    "    # calcula  IQR\n",
    "    iqr = q75 - q25\n",
    "    # calcula outlier cutoff\n",
    "    cut_off = iqr * 1.5\n",
    "    # calcula margens inferiores, lower e superiores upper\n",
    "    lower, upper = q25 - cut_off, q75 + cut_off\n",
    "    print(' IQR é ',iqr)\n",
    "   # print('Valor minimo', lower)\n",
    "   # print('Valor maximo', upper)\n",
    "    outliers = []\n",
    "\n",
    "    for i in dataset[colname].values:\n",
    "      if((i > upper)or(i < lower)):\n",
    "        outliers.append(i)\n",
    "    print('O numero de outliers encontrado foi de', len(outliers))\n",
    "    return lower, upper, outliers"
   ]
  },
  {
   "cell_type": "code",
   "execution_count": 256,
   "metadata": {},
   "outputs": [
    {
     "name": "stdout",
     "output_type": "stream",
     "text": [
      " IQR é  157.02513490047488\n",
      "O numero de outliers encontrado foi de 1\n",
      " IQR é  102.26240025932503\n",
      "O numero de outliers encontrado foi de 2\n"
     ]
    },
    {
     "data": {
      "text/plain": [
       "<Figure size 1000x600 with 0 Axes>"
      ]
     },
     "metadata": {},
     "output_type": "display_data"
    },
    {
     "data": {
      "image/png": "[encoded data removed]",
      "text/plain": [
       "<Figure size 500x500 with 1 Axes>"
      ]
     },
     "metadata": {},
     "output_type": "display_data"
    },
    {
     "data": {
      "text/plain": [
       "<Figure size 1000x600 with 0 Axes>"
      ]
     },
     "metadata": {},
     "output_type": "display_data"
    },
    {
     "data": {
      "image/png": "[encoded data removed]",
      "text/plain": [
       "<Figure size 500x500 with 1 Axes>"
      ]
     },
     "metadata": {},
     "output_type": "display_data"
    }
   ],
   "source": [
    "for column in boxplot.select_dtypes(include=np.number).columns:\n",
    "  lower, upper, out =  find_outlier_iqr(boxplot, column)\n",
    "  if (len(out) > 0):\n",
    "    plt.figure(figsize = (10,6))\n",
    "    sns.displot(boxplot[column], kde=False)\n",
    "    plt.axvspan(xmin = lower,xmax= boxplot[column].min(),alpha=0.2, color='red')\n",
    "    plt.axvspan(xmin = upper,xmax= boxplot[column].max(),alpha=0.2, color='red')\n",
    "    plt.title(\"Outliers detectados em {}\".format(column))"
   ]
  },
  {
   "cell_type": "markdown",
   "metadata": {},
   "source": [
    "9- Remova todos os outliers e verifique se eles são passíveis de alterar a média nacional significativamente? (considere significativamente um valor acima de 5%)"
   ]
  },
  {
   "cell_type": "code",
   "execution_count": 273,
   "metadata": {},
   "outputs": [],
   "source": [
    "boxplot = data_enem.copy()"
   ]
  },
  {
   "cell_type": "code",
   "execution_count": 274,
   "metadata": {},
   "outputs": [],
   "source": [
    "def remove_outliers_iqr(dataset, colname):\n",
    "    q25, q75 = np.quantile(dataset[colname], 0.25), np.quantile(dataset[colname], 0.75)\n",
    "    # calcula  IQR\n",
    "    iqr = q75 - q25\n",
    "    # calcula outlier cutoff\n",
    "    cut_off = iqr * 1.5\n",
    "    # calcula margens inferiores, lower e superiores upper\n",
    "    lower, upper = q25 - cut_off, q75 + cut_off\n",
    "    \n",
    "    outliers = dataset[(dataset[colname] < lower) | (dataset[colname] > upper)][colname]\n",
    "    \n",
    "    print('IQR é', iqr)\n",
    "    print('Valor mínimo', lower)\n",
    "    print('Valor máximo', upper)\n",
    "    print('O número de outliers encontrado foi de', len(outliers))\n",
    "    \n",
    "    # Remover outliers do dataset\n",
    "    dataset_cleaned = dataset[(dataset[colname] >= lower) & (dataset[colname] <= upper)]\n",
    "    \n",
    "    return lower, upper, outliers, dataset_cleaned"
   ]
  },
  {
   "cell_type": "code",
   "execution_count": 275,
   "metadata": {},
   "outputs": [
    {
     "data": {
      "text/plain": [
       "Linguagens              517.467162\n",
       "Ciências humanas        528.351454\n",
       "Ciências da natureza    502.142101\n",
       "Matemática              537.172480\n",
       "Redação                 641.193123\n",
       "dtype: float64"
      ]
     },
     "execution_count": 275,
     "metadata": {},
     "output_type": "execute_result"
    }
   ],
   "source": [
    "media_antes = boxplot[['Linguagens', 'Ciências humanas', 'Ciências da natureza', 'Matemática', 'Redação']].mean()\n",
    "media_antes"
   ]
  },
  {
   "cell_type": "code",
   "execution_count": 276,
   "metadata": {},
   "outputs": [
    {
     "data": {
      "image/png": "[encoded data removed]",
      "text/plain": [
       "<Figure size 800x400 with 1 Axes>"
      ]
     },
     "metadata": {},
     "output_type": "display_data"
    },
    {
     "data": {
      "image/png": "[encoded data removed]",
      "text/plain": [
       "<Figure size 800x400 with 1 Axes>"
      ]
     },
     "metadata": {},
     "output_type": "display_data"
    },
    {
     "data": {
      "image/png": "[encoded data removed]",
      "text/plain": [
       "<Figure size 800x400 with 1 Axes>"
      ]
     },
     "metadata": {},
     "output_type": "display_data"
    },
    {
     "data": {
      "image/png": "[encoded data removed]",
      "text/plain": [
       "<Figure size 800x400 with 1 Axes>"
      ]
     },
     "metadata": {},
     "output_type": "display_data"
    },
    {
     "data": {
      "image/png": "[encoded data removed]",
      "text/plain": [
       "<Figure size 800x400 with 1 Axes>"
      ]
     },
     "metadata": {},
     "output_type": "display_data"
    }
   ],
   "source": [
    "plt.rcParams['figure.figsize'] = [8, 4]\n",
    "sns.set_theme()\n",
    "\n",
    "### para cada uma das colunas numericas roda o boxplot\n",
    "for column in boxplot.select_dtypes(include=np.number).columns:\n",
    "    plt.figure()\n",
    "    sns.boxplot(data = boxplot , x = column, color='violet',showfliers=True)\n",
    "    plt.title(\"Boxplot: \"+column)"
   ]
  },
  {
   "cell_type": "code",
   "execution_count": 277,
   "metadata": {},
   "outputs": [
    {
     "name": "stdout",
     "output_type": "stream",
     "text": [
      "IQR é 109.99743934269998\n",
      "Valor mínimo 297.65180891610004\n",
      "Valor máximo 737.6415662868999\n",
      "O número de outliers encontrado foi de 2\n",
      "IQR é 108.25660959517495\n",
      "Valor mínimo 313.4737071952626\n",
      "Valor máximo 746.5001455759624\n",
      "O número de outliers encontrado foi de 3\n",
      "IQR é 102.26240025932503\n",
      "Valor mínimo 296.6045346095625\n",
      "Valor máximo 705.6541356468626\n",
      "O número de outliers encontrado foi de 2\n",
      "IQR é 114.31677633677492\n",
      "Valor mínimo 305.5433065997877\n",
      "Valor máximo 762.8104119468874\n",
      "O número de outliers encontrado foi de 3\n",
      "IQR é 157.02513490047488\n",
      "Valor mínimo 322.98725564181274\n",
      "Valor máximo 951.0877952437122\n",
      "O número de outliers encontrado foi de 1\n"
     ]
    }
   ],
   "source": [
    "# Para cada coluna numérica, remova outliers e salve o dataset limpo\n",
    "# dataset_cleaned_list = []\n",
    "# outliers_list = []\n",
    "\n",
    "for column in boxplot.select_dtypes(include=np.number).columns:\n",
    "    lower, upper, outliers, dataset_cleaned = remove_outliers_iqr(boxplot, column)\n",
    "    # outliers_list.append(outliers)\n",
    "    # dataset_cleaned_list.append(dataset_cleaned)"
   ]
  },
  {
   "cell_type": "code",
   "execution_count": 278,
   "metadata": {},
   "outputs": [
    {
     "data": {
      "text/plain": [
       "Linguagens              517.399620\n",
       "Ciências humanas        528.411815\n",
       "Ciências da natureza    502.025033\n",
       "Matemática              537.380554\n",
       "Redação                 641.834594\n",
       "dtype: float64"
      ]
     },
     "execution_count": 278,
     "metadata": {},
     "output_type": "execute_result"
    }
   ],
   "source": [
    "media_depois = dataset_cleaned[['Linguagens', 'Ciências humanas', 'Ciências da natureza', 'Matemática', 'Redação']].mean()\n",
    "media_depois"
   ]
  },
  {
   "cell_type": "code",
   "execution_count": 279,
   "metadata": {},
   "outputs": [
    {
     "name": "stdout",
     "output_type": "stream",
     "text": [
      "Médias antes da remoção de outliers:\n",
      " Linguagens              517.467162\n",
      "Ciências humanas        528.351454\n",
      "Ciências da natureza    502.142101\n",
      "Matemática              537.172480\n",
      "Redação                 641.193123\n",
      "dtype: float64\n",
      "\n",
      "Médias depois da remoção de outliers:\n",
      " Linguagens              517.399620\n",
      "Ciências humanas        528.411815\n",
      "Ciências da natureza    502.025033\n",
      "Matemática              537.380554\n",
      "Redação                 641.834594\n",
      "dtype: float64\n"
     ]
    }
   ],
   "source": [
    "print(\"Médias antes da remoção de outliers:\\n\", media_antes)\n",
    "print(\"\\nMédias depois da remoção de outliers:\\n\", media_depois)"
   ]
  },
  {
   "cell_type": "code",
   "execution_count": 282,
   "metadata": {},
   "outputs": [
    {
     "data": {
      "text/plain": [
       "Linguagens              0.013052\n",
       "Ciências humanas       -0.011424\n",
       "Ciências da natureza    0.023314\n",
       "Matemática             -0.038735\n",
       "Redação                -0.100043\n",
       "dtype: float64"
      ]
     },
     "execution_count": 282,
     "metadata": {},
     "output_type": "execute_result"
    }
   ],
   "source": [
    "porcentagem = (media_antes - media_depois)*100 / media_antes\n",
    "porcentagem"
   ]
  },
  {
   "cell_type": "markdown",
   "metadata": {},
   "source": [
    "A mudança que trouxe não foi dratica mudando no máximo 0.1%"
   ]
  },
  {
   "cell_type": "markdown",
   "metadata": {},
   "source": [
    "10 - Considerando valores nulos, tente encontrar qual seria a melhor medida de tendência que pode substituir as notas nulas. Média, moda ou mediana? Substitua o valor por todos os três e diga qual delas altera menos a média geral e o desvio padrão."
   ]
  },
  {
   "cell_type": "code",
   "execution_count": 305,
   "metadata": {},
   "outputs": [
    {
     "data": {
      "text/plain": [
       "Linguagens              103\n",
       "Ciências humanas         64\n",
       "Ciências da natureza    176\n",
       "Matemática               76\n",
       "Redação                 140\n",
       "Sexo                      0\n",
       "dtype: int64"
      ]
     },
     "execution_count": 305,
     "metadata": {},
     "output_type": "execute_result"
    }
   ],
   "source": [
    "data_enem_com_nulos.isna().sum()"
   ]
  },
  {
   "cell_type": "code",
   "execution_count": 306,
   "metadata": {},
   "outputs": [
    {
     "data": {
      "text/html": [
       "<div>\n",
       "<style scoped>\n",
       "    .dataframe tbody tr th:only-of-type {\n",
       "        vertical-align: middle;\n",
       "    }\n",
       "\n",
       "    .dataframe tbody tr th {\n",
       "        vertical-align: top;\n",
       "    }\n",
       "\n",
       "    .dataframe thead th {\n",
       "        text-align: right;\n",
       "    }\n",
       "</style>\n",
       "<table border=\"1\" class=\"dataframe\">\n",
       "  <thead>\n",
       "    <tr style=\"text-align: right;\">\n",
       "      <th></th>\n",
       "      <th>Linguagens</th>\n",
       "      <th>Ciências humanas</th>\n",
       "      <th>Ciências da natureza</th>\n",
       "      <th>Matemática</th>\n",
       "      <th>Redação</th>\n",
       "    </tr>\n",
       "  </thead>\n",
       "  <tbody>\n",
       "    <tr>\n",
       "      <th>count</th>\n",
       "      <td>897.000000</td>\n",
       "      <td>936.000000</td>\n",
       "      <td>824.000000</td>\n",
       "      <td>924.000000</td>\n",
       "      <td>860.000000</td>\n",
       "    </tr>\n",
       "    <tr>\n",
       "      <th>mean</th>\n",
       "      <td>514.524809</td>\n",
       "      <td>527.042281</td>\n",
       "      <td>499.315583</td>\n",
       "      <td>535.965660</td>\n",
       "      <td>637.783532</td>\n",
       "    </tr>\n",
       "    <tr>\n",
       "      <th>std</th>\n",
       "      <td>84.009313</td>\n",
       "      <td>77.811519</td>\n",
       "      <td>78.760404</td>\n",
       "      <td>86.648100</td>\n",
       "      <td>115.339972</td>\n",
       "    </tr>\n",
       "    <tr>\n",
       "      <th>min</th>\n",
       "      <td>287.000000</td>\n",
       "      <td>289.900000</td>\n",
       "      <td>314.400000</td>\n",
       "      <td>319.800000</td>\n",
       "      <td>270.839965</td>\n",
       "    </tr>\n",
       "    <tr>\n",
       "      <th>25%</th>\n",
       "      <td>458.360558</td>\n",
       "      <td>475.424546</td>\n",
       "      <td>444.709076</td>\n",
       "      <td>479.172971</td>\n",
       "      <td>556.468366</td>\n",
       "    </tr>\n",
       "    <tr>\n",
       "      <th>50%</th>\n",
       "      <td>515.045250</td>\n",
       "      <td>524.519920</td>\n",
       "      <td>500.479263</td>\n",
       "      <td>533.247767</td>\n",
       "      <td>635.273973</td>\n",
       "    </tr>\n",
       "    <tr>\n",
       "      <th>75%</th>\n",
       "      <td>571.635876</td>\n",
       "      <td>581.401952</td>\n",
       "      <td>548.751678</td>\n",
       "      <td>592.912963</td>\n",
       "      <td>715.989868</td>\n",
       "    </tr>\n",
       "    <tr>\n",
       "      <th>max</th>\n",
       "      <td>804.456317</td>\n",
       "      <td>763.919695</td>\n",
       "      <td>802.004568</td>\n",
       "      <td>807.877902</td>\n",
       "      <td>1000.000000</td>\n",
       "    </tr>\n",
       "  </tbody>\n",
       "</table>\n",
       "</div>"
      ],
      "text/plain": [
       "       Linguagens  Ciências humanas  Ciências da natureza  Matemática  \\\n",
       "count  897.000000        936.000000            824.000000  924.000000   \n",
       "mean   514.524809        527.042281            499.315583  535.965660   \n",
       "std     84.009313         77.811519             78.760404   86.648100   \n",
       "min    287.000000        289.900000            314.400000  319.800000   \n",
       "25%    458.360558        475.424546            444.709076  479.172971   \n",
       "50%    515.045250        524.519920            500.479263  533.247767   \n",
       "75%    571.635876        581.401952            548.751678  592.912963   \n",
       "max    804.456317        763.919695            802.004568  807.877902   \n",
       "\n",
       "           Redação  \n",
       "count   860.000000  \n",
       "mean    637.783532  \n",
       "std     115.339972  \n",
       "min     270.839965  \n",
       "25%     556.468366  \n",
       "50%     635.273973  \n",
       "75%     715.989868  \n",
       "max    1000.000000  "
      ]
     },
     "execution_count": 306,
     "metadata": {},
     "output_type": "execute_result"
    }
   ],
   "source": [
    "data_enem_com_nulos.describe()"
   ]
  },
  {
   "cell_type": "code",
   "execution_count": 307,
   "metadata": {},
   "outputs": [
    {
     "data": {
      "text/html": [
       "<div>\n",
       "<style scoped>\n",
       "    .dataframe tbody tr th:only-of-type {\n",
       "        vertical-align: middle;\n",
       "    }\n",
       "\n",
       "    .dataframe tbody tr th {\n",
       "        vertical-align: top;\n",
       "    }\n",
       "\n",
       "    .dataframe thead th {\n",
       "        text-align: right;\n",
       "    }\n",
       "</style>\n",
       "<table border=\"1\" class=\"dataframe\">\n",
       "  <thead>\n",
       "    <tr style=\"text-align: right;\">\n",
       "      <th></th>\n",
       "      <th>Linguagens</th>\n",
       "      <th>Ciências humanas</th>\n",
       "      <th>Ciências da natureza</th>\n",
       "      <th>Matemática</th>\n",
       "      <th>Redação</th>\n",
       "      <th>média</th>\n",
       "    </tr>\n",
       "  </thead>\n",
       "  <tbody>\n",
       "    <tr>\n",
       "      <th>0</th>\n",
       "      <td>585.669300</td>\n",
       "      <td>686.512178</td>\n",
       "      <td>390.482473</td>\n",
       "      <td>452.281333</td>\n",
       "      <td>546.371706</td>\n",
       "      <td>532.263398</td>\n",
       "    </tr>\n",
       "    <tr>\n",
       "      <th>1</th>\n",
       "      <td>359.384608</td>\n",
       "      <td>642.084134</td>\n",
       "      <td>499.315583</td>\n",
       "      <td>412.205207</td>\n",
       "      <td>741.825256</td>\n",
       "      <td>530.962957</td>\n",
       "    </tr>\n",
       "    <tr>\n",
       "      <th>2</th>\n",
       "      <td>622.732384</td>\n",
       "      <td>495.510719</td>\n",
       "      <td>443.183580</td>\n",
       "      <td>669.683401</td>\n",
       "      <td>684.515750</td>\n",
       "      <td>583.125167</td>\n",
       "    </tr>\n",
       "    <tr>\n",
       "      <th>3</th>\n",
       "      <td>350.164605</td>\n",
       "      <td>602.041588</td>\n",
       "      <td>413.979810</td>\n",
       "      <td>676.608952</td>\n",
       "      <td>671.237114</td>\n",
       "      <td>542.806414</td>\n",
       "    </tr>\n",
       "    <tr>\n",
       "      <th>4</th>\n",
       "      <td>384.093657</td>\n",
       "      <td>489.249140</td>\n",
       "      <td>609.758123</td>\n",
       "      <td>520.426698</td>\n",
       "      <td>744.375048</td>\n",
       "      <td>549.580533</td>\n",
       "    </tr>\n",
       "  </tbody>\n",
       "</table>\n",
       "</div>"
      ],
      "text/plain": [
       "   Linguagens  Ciências humanas  Ciências da natureza  Matemática     Redação  \\\n",
       "0  585.669300        686.512178            390.482473  452.281333  546.371706   \n",
       "1  359.384608        642.084134            499.315583  412.205207  741.825256   \n",
       "2  622.732384        495.510719            443.183580  669.683401  684.515750   \n",
       "3  350.164605        602.041588            413.979810  676.608952  671.237114   \n",
       "4  384.093657        489.249140            609.758123  520.426698  744.375048   \n",
       "\n",
       "        média  \n",
       "0  532.263398  \n",
       "1  530.962957  \n",
       "2  583.125167  \n",
       "3  542.806414  \n",
       "4  549.580533  "
      ]
     },
     "execution_count": 307,
     "metadata": {},
     "output_type": "execute_result"
    }
   ],
   "source": [
    "# Selecione apenas as colunas numéricas\n",
    "data_enem_numericas = data_enem_com_nulos.select_dtypes(include=np.number)\n",
    "\n",
    "# Preencha os valores nulos com as médias das colunas numéricas\n",
    "data_enem_nulos_media = data_enem_numericas.fillna(data_enem_numericas.mean())\n",
    "\n",
    "data_enem_nulos_media['média'] = data_enem_nulos_media.mean(axis=1)\n",
    "data_enem_nulos_media.head(5)"
   ]
  },
  {
   "cell_type": "code",
   "execution_count": 308,
   "metadata": {},
   "outputs": [
    {
     "data": {
      "text/html": [
       "<div>\n",
       "<style scoped>\n",
       "    .dataframe tbody tr th:only-of-type {\n",
       "        vertical-align: middle;\n",
       "    }\n",
       "\n",
       "    .dataframe tbody tr th {\n",
       "        vertical-align: top;\n",
       "    }\n",
       "\n",
       "    .dataframe thead th {\n",
       "        text-align: right;\n",
       "    }\n",
       "</style>\n",
       "<table border=\"1\" class=\"dataframe\">\n",
       "  <thead>\n",
       "    <tr style=\"text-align: right;\">\n",
       "      <th></th>\n",
       "      <th>Linguagens</th>\n",
       "      <th>Ciências humanas</th>\n",
       "      <th>Ciências da natureza</th>\n",
       "      <th>Matemática</th>\n",
       "      <th>Redação</th>\n",
       "      <th>média</th>\n",
       "    </tr>\n",
       "  </thead>\n",
       "  <tbody>\n",
       "    <tr>\n",
       "      <th>0</th>\n",
       "      <td>585.669300</td>\n",
       "      <td>686.512178</td>\n",
       "      <td>390.482473</td>\n",
       "      <td>452.281333</td>\n",
       "      <td>546.371706</td>\n",
       "      <td>532.263398</td>\n",
       "    </tr>\n",
       "    <tr>\n",
       "      <th>1</th>\n",
       "      <td>359.384608</td>\n",
       "      <td>642.084134</td>\n",
       "      <td>500.479263</td>\n",
       "      <td>412.205207</td>\n",
       "      <td>741.825256</td>\n",
       "      <td>531.195694</td>\n",
       "    </tr>\n",
       "    <tr>\n",
       "      <th>2</th>\n",
       "      <td>622.732384</td>\n",
       "      <td>495.510719</td>\n",
       "      <td>443.183580</td>\n",
       "      <td>669.683401</td>\n",
       "      <td>684.515750</td>\n",
       "      <td>583.125167</td>\n",
       "    </tr>\n",
       "    <tr>\n",
       "      <th>3</th>\n",
       "      <td>350.164605</td>\n",
       "      <td>602.041588</td>\n",
       "      <td>413.979810</td>\n",
       "      <td>676.608952</td>\n",
       "      <td>671.237114</td>\n",
       "      <td>542.806414</td>\n",
       "    </tr>\n",
       "    <tr>\n",
       "      <th>4</th>\n",
       "      <td>384.093657</td>\n",
       "      <td>489.249140</td>\n",
       "      <td>609.758123</td>\n",
       "      <td>520.426698</td>\n",
       "      <td>744.375048</td>\n",
       "      <td>549.580533</td>\n",
       "    </tr>\n",
       "  </tbody>\n",
       "</table>\n",
       "</div>"
      ],
      "text/plain": [
       "   Linguagens  Ciências humanas  Ciências da natureza  Matemática     Redação  \\\n",
       "0  585.669300        686.512178            390.482473  452.281333  546.371706   \n",
       "1  359.384608        642.084134            500.479263  412.205207  741.825256   \n",
       "2  622.732384        495.510719            443.183580  669.683401  684.515750   \n",
       "3  350.164605        602.041588            413.979810  676.608952  671.237114   \n",
       "4  384.093657        489.249140            609.758123  520.426698  744.375048   \n",
       "\n",
       "        média  \n",
       "0  532.263398  \n",
       "1  531.195694  \n",
       "2  583.125167  \n",
       "3  542.806414  \n",
       "4  549.580533  "
      ]
     },
     "execution_count": 308,
     "metadata": {},
     "output_type": "execute_result"
    }
   ],
   "source": [
    "## Mediana\n",
    "data_enem_nulos_mediana = data_enem_numericas.fillna(data_enem_numericas.median())\n",
    "\n",
    "data_enem_nulos_mediana['média'] = data_enem_nulos_mediana.mean(axis=1)\n",
    "data_enem_nulos_mediana.head(5)"
   ]
  },
  {
   "cell_type": "code",
   "execution_count": 309,
   "metadata": {},
   "outputs": [
    {
     "data": {
      "text/html": [
       "<div>\n",
       "<style scoped>\n",
       "    .dataframe tbody tr th:only-of-type {\n",
       "        vertical-align: middle;\n",
       "    }\n",
       "\n",
       "    .dataframe tbody tr th {\n",
       "        vertical-align: top;\n",
       "    }\n",
       "\n",
       "    .dataframe thead th {\n",
       "        text-align: right;\n",
       "    }\n",
       "</style>\n",
       "<table border=\"1\" class=\"dataframe\">\n",
       "  <thead>\n",
       "    <tr style=\"text-align: right;\">\n",
       "      <th></th>\n",
       "      <th>Linguagens</th>\n",
       "      <th>Ciências humanas</th>\n",
       "      <th>Ciências da natureza</th>\n",
       "      <th>Matemática</th>\n",
       "      <th>Redação</th>\n",
       "      <th>média</th>\n",
       "    </tr>\n",
       "  </thead>\n",
       "  <tbody>\n",
       "    <tr>\n",
       "      <th>0</th>\n",
       "      <td>585.669300</td>\n",
       "      <td>686.512178</td>\n",
       "      <td>390.482473</td>\n",
       "      <td>452.281333</td>\n",
       "      <td>546.371706</td>\n",
       "      <td>532.263398</td>\n",
       "    </tr>\n",
       "    <tr>\n",
       "      <th>1</th>\n",
       "      <td>359.384608</td>\n",
       "      <td>642.084134</td>\n",
       "      <td>NaN</td>\n",
       "      <td>412.205207</td>\n",
       "      <td>741.825256</td>\n",
       "      <td>538.874801</td>\n",
       "    </tr>\n",
       "    <tr>\n",
       "      <th>2</th>\n",
       "      <td>622.732384</td>\n",
       "      <td>495.510719</td>\n",
       "      <td>443.183580</td>\n",
       "      <td>669.683401</td>\n",
       "      <td>684.515750</td>\n",
       "      <td>583.125167</td>\n",
       "    </tr>\n",
       "    <tr>\n",
       "      <th>3</th>\n",
       "      <td>350.164605</td>\n",
       "      <td>602.041588</td>\n",
       "      <td>413.979810</td>\n",
       "      <td>676.608952</td>\n",
       "      <td>671.237114</td>\n",
       "      <td>542.806414</td>\n",
       "    </tr>\n",
       "    <tr>\n",
       "      <th>4</th>\n",
       "      <td>384.093657</td>\n",
       "      <td>489.249140</td>\n",
       "      <td>609.758123</td>\n",
       "      <td>520.426698</td>\n",
       "      <td>744.375048</td>\n",
       "      <td>549.580533</td>\n",
       "    </tr>\n",
       "  </tbody>\n",
       "</table>\n",
       "</div>"
      ],
      "text/plain": [
       "   Linguagens  Ciências humanas  Ciências da natureza  Matemática     Redação  \\\n",
       "0  585.669300        686.512178            390.482473  452.281333  546.371706   \n",
       "1  359.384608        642.084134                   NaN  412.205207  741.825256   \n",
       "2  622.732384        495.510719            443.183580  669.683401  684.515750   \n",
       "3  350.164605        602.041588            413.979810  676.608952  671.237114   \n",
       "4  384.093657        489.249140            609.758123  520.426698  744.375048   \n",
       "\n",
       "        média  \n",
       "0  532.263398  \n",
       "1  538.874801  \n",
       "2  583.125167  \n",
       "3  542.806414  \n",
       "4  549.580533  "
      ]
     },
     "execution_count": 309,
     "metadata": {},
     "output_type": "execute_result"
    }
   ],
   "source": [
    "## Moda\n",
    "data_enem_nulos_moda = data_enem_numericas.fillna(data_enem_numericas.mode())\n",
    "\n",
    "data_enem_nulos_moda['média'] = data_enem_nulos_moda.mean(axis=1)\n",
    "data_enem_nulos_moda.head(5)"
   ]
  },
  {
   "cell_type": "code",
   "execution_count": 310,
   "metadata": {},
   "outputs": [
    {
     "name": "stdout",
     "output_type": "stream",
     "text": [
      "Média geral com a média:  542.9263730172955\n",
      "Média geral com a mediana:  542.8341897941311\n",
      "Média geral com a moda:  545.3585649989967\n"
     ]
    }
   ],
   "source": [
    "\n",
    "\n",
    "media_geral_media = data_enem_nulos_media['média'].mean()\n",
    "media_geral_mediana = data_enem_nulos_mediana['média'].mean()\n",
    "media_geral_moda = data_enem_nulos_moda['média'].mean()\n",
    "\n",
    "print('Média geral com a média: ', media_geral_media)\n",
    "print('Média geral com a mediana: ', media_geral_mediana)\n",
    "print('Média geral com a moda: ', media_geral_moda)"
   ]
  },
  {
   "cell_type": "code",
   "execution_count": 311,
   "metadata": {},
   "outputs": [
    {
     "name": "stdout",
     "output_type": "stream",
     "text": [
      "A que altera menos a media geral é a mediana com:  542.8341897941311\n"
     ]
    }
   ],
   "source": [
    "print('A que altera menos a media geral é a mediana com: ', media_geral_mediana)"
   ]
  },
  {
   "cell_type": "code",
   "execution_count": 312,
   "metadata": {},
   "outputs": [
    {
     "name": "stdout",
     "output_type": "stream",
     "text": [
      "Desvio padrão com a média:  36.620962819469845\n",
      "Desvio padrão com a mediana:  36.63072817508206\n",
      "Desvio padrão com a moda:  42.22081423508201\n"
     ]
    }
   ],
   "source": [
    "desvio_padrao_media = data_enem_nulos_media['média'].std()\n",
    "desvio_padrao_mediana = data_enem_nulos_mediana['média'].std()\n",
    "desvio_padrao_moda = data_enem_nulos_moda['média'].std()\n",
    "\n",
    "print('Desvio padrão com a média: ', desvio_padrao_media)\n",
    "print('Desvio padrão com a mediana: ', desvio_padrao_mediana)\n",
    "print('Desvio padrão com a moda: ', desvio_padrao_moda)"
   ]
  },
  {
   "cell_type": "code",
   "execution_count": 313,
   "metadata": {},
   "outputs": [
    {
     "name": "stdout",
     "output_type": "stream",
     "text": [
      "A que altera menos o desvio padrão é a média com:  36.620962819469845\n"
     ]
    }
   ],
   "source": [
    "print('A que altera menos o desvio padrão é a média com: ', desvio_padrao_media)"
   ]
  }
 ],
 "metadata": {
  "kernelspec": {
   "display_name": "Python 3",
   "language": "python",
   "name": "python3"
  },
  "language_info": {
   "codemirror_mode": {
    "name": "ipython",
    "version": 3
   },
   "file_extension": ".py",
   "mimetype": "text/x-python",
   "name": "python",
   "nbconvert_exporter": "python",
   "pygments_lexer": "ipython3",
   "version": "3.11.4"
  }
 },
 "nbformat": 4,
 "nbformat_minor": 2
}
