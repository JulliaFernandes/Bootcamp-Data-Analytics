{
 "cells": [
  {
   "cell_type": "code",
   "execution_count": 1,
   "metadata": {},
   "outputs": [],
   "source": [
    "import numpy as np\n",
    "import pandas as pd\n",
    "\n",
    "## para a visualização dos dados\n",
    "import matplotlib.pyplot as plt\n",
    "import seaborn as sns"
   ]
  },
  {
   "cell_type": "code",
   "execution_count": 2,
   "metadata": {},
   "outputs": [],
   "source": [
    "df = pd.read_csv('populacao_brasileira.csv')"
   ]
  },
  {
   "cell_type": "code",
   "execution_count": 3,
   "metadata": {},
   "outputs": [
    {
     "data": {
      "text/html": [
       "<div>\n",
       "<style scoped>\n",
       "    .dataframe tbody tr th:only-of-type {\n",
       "        vertical-align: middle;\n",
       "    }\n",
       "\n",
       "    .dataframe tbody tr th {\n",
       "        vertical-align: top;\n",
       "    }\n",
       "\n",
       "    .dataframe thead th {\n",
       "        text-align: right;\n",
       "    }\n",
       "</style>\n",
       "<table border=\"1\" class=\"dataframe\">\n",
       "  <thead>\n",
       "    <tr style=\"text-align: right;\">\n",
       "      <th></th>\n",
       "      <th>Unnamed: 0</th>\n",
       "      <th>estado</th>\n",
       "      <th>idade</th>\n",
       "      <th>escolaridade</th>\n",
       "      <th>nível de proficiência em inglês</th>\n",
       "      <th>renda</th>\n",
       "      <th>sexo</th>\n",
       "    </tr>\n",
       "  </thead>\n",
       "  <tbody>\n",
       "    <tr>\n",
       "      <th>0</th>\n",
       "      <td>0</td>\n",
       "      <td>MA</td>\n",
       "      <td>56</td>\n",
       "      <td>Fundamental</td>\n",
       "      <td>Intermediário</td>\n",
       "      <td>4006.29</td>\n",
       "      <td>F</td>\n",
       "    </tr>\n",
       "    <tr>\n",
       "      <th>1</th>\n",
       "      <td>1</td>\n",
       "      <td>BA</td>\n",
       "      <td>46</td>\n",
       "      <td>Superior</td>\n",
       "      <td>Básico</td>\n",
       "      <td>2423.11</td>\n",
       "      <td>M</td>\n",
       "    </tr>\n",
       "    <tr>\n",
       "      <th>2</th>\n",
       "      <td>2</td>\n",
       "      <td>AM</td>\n",
       "      <td>32</td>\n",
       "      <td>Fundamental</td>\n",
       "      <td>Intermediário</td>\n",
       "      <td>3835.69</td>\n",
       "      <td>M</td>\n",
       "    </tr>\n",
       "    <tr>\n",
       "      <th>3</th>\n",
       "      <td>3</td>\n",
       "      <td>CE</td>\n",
       "      <td>60</td>\n",
       "      <td>Superior</td>\n",
       "      <td>Básico</td>\n",
       "      <td>1870.29</td>\n",
       "      <td>M</td>\n",
       "    </tr>\n",
       "    <tr>\n",
       "      <th>4</th>\n",
       "      <td>4</td>\n",
       "      <td>SE</td>\n",
       "      <td>25</td>\n",
       "      <td>Fundamental</td>\n",
       "      <td>Avançado</td>\n",
       "      <td>3529.80</td>\n",
       "      <td>M</td>\n",
       "    </tr>\n",
       "  </tbody>\n",
       "</table>\n",
       "</div>"
      ],
      "text/plain": [
       "   Unnamed: 0 estado  idade escolaridade nível de proficiência em inglês  \\\n",
       "0           0     MA     56  Fundamental                   Intermediário   \n",
       "1           1     BA     46     Superior                          Básico   \n",
       "2           2     AM     32  Fundamental                   Intermediário   \n",
       "3           3     CE     60     Superior                          Básico   \n",
       "4           4     SE     25  Fundamental                        Avançado   \n",
       "\n",
       "     renda sexo  \n",
       "0  4006.29    F  \n",
       "1  2423.11    M  \n",
       "2  3835.69    M  \n",
       "3  1870.29    M  \n",
       "4  3529.80    M  "
      ]
     },
     "execution_count": 3,
     "metadata": {},
     "output_type": "execute_result"
    }
   ],
   "source": [
    "df.head()"
   ]
  },
  {
   "cell_type": "code",
   "execution_count": 4,
   "metadata": {},
   "outputs": [
    {
     "data": {
      "text/html": [
       "<div>\n",
       "<style scoped>\n",
       "    .dataframe tbody tr th:only-of-type {\n",
       "        vertical-align: middle;\n",
       "    }\n",
       "\n",
       "    .dataframe tbody tr th {\n",
       "        vertical-align: top;\n",
       "    }\n",
       "\n",
       "    .dataframe thead th {\n",
       "        text-align: right;\n",
       "    }\n",
       "</style>\n",
       "<table border=\"1\" class=\"dataframe\">\n",
       "  <thead>\n",
       "    <tr style=\"text-align: right;\">\n",
       "      <th></th>\n",
       "      <th>Unnamed: 0</th>\n",
       "      <th>idade</th>\n",
       "      <th>renda</th>\n",
       "    </tr>\n",
       "  </thead>\n",
       "  <tbody>\n",
       "    <tr>\n",
       "      <th>count</th>\n",
       "      <td>1000.000000</td>\n",
       "      <td>1000.000000</td>\n",
       "      <td>1000.000000</td>\n",
       "    </tr>\n",
       "    <tr>\n",
       "      <th>mean</th>\n",
       "      <td>499.500000</td>\n",
       "      <td>40.986000</td>\n",
       "      <td>3082.537180</td>\n",
       "    </tr>\n",
       "    <tr>\n",
       "      <th>std</th>\n",
       "      <td>288.819436</td>\n",
       "      <td>13.497852</td>\n",
       "      <td>996.572239</td>\n",
       "    </tr>\n",
       "    <tr>\n",
       "      <th>min</th>\n",
       "      <td>0.000000</td>\n",
       "      <td>18.000000</td>\n",
       "      <td>103.740000</td>\n",
       "    </tr>\n",
       "    <tr>\n",
       "      <th>25%</th>\n",
       "      <td>249.750000</td>\n",
       "      <td>29.000000</td>\n",
       "      <td>2425.815000</td>\n",
       "    </tr>\n",
       "    <tr>\n",
       "      <th>50%</th>\n",
       "      <td>499.500000</td>\n",
       "      <td>42.000000</td>\n",
       "      <td>3076.415000</td>\n",
       "    </tr>\n",
       "    <tr>\n",
       "      <th>75%</th>\n",
       "      <td>749.250000</td>\n",
       "      <td>52.000000</td>\n",
       "      <td>3714.487500</td>\n",
       "    </tr>\n",
       "    <tr>\n",
       "      <th>max</th>\n",
       "      <td>999.000000</td>\n",
       "      <td>64.000000</td>\n",
       "      <td>5632.380000</td>\n",
       "    </tr>\n",
       "  </tbody>\n",
       "</table>\n",
       "</div>"
      ],
      "text/plain": [
       "        Unnamed: 0        idade        renda\n",
       "count  1000.000000  1000.000000  1000.000000\n",
       "mean    499.500000    40.986000  3082.537180\n",
       "std     288.819436    13.497852   996.572239\n",
       "min       0.000000    18.000000   103.740000\n",
       "25%     249.750000    29.000000  2425.815000\n",
       "50%     499.500000    42.000000  3076.415000\n",
       "75%     749.250000    52.000000  3714.487500\n",
       "max     999.000000    64.000000  5632.380000"
      ]
     },
     "execution_count": 4,
     "metadata": {},
     "output_type": "execute_result"
    }
   ],
   "source": [
    "df.describe()"
   ]
  },
  {
   "cell_type": "code",
   "execution_count": 5,
   "metadata": {},
   "outputs": [
    {
     "name": "stdout",
     "output_type": "stream",
     "text": [
      "<class 'pandas.core.frame.DataFrame'>\n",
      "RangeIndex: 1000 entries, 0 to 999\n",
      "Data columns (total 7 columns):\n",
      " #   Column                           Non-Null Count  Dtype  \n",
      "---  ------                           --------------  -----  \n",
      " 0   Unnamed: 0                       1000 non-null   int64  \n",
      " 1   estado                           1000 non-null   object \n",
      " 2   idade                            1000 non-null   int64  \n",
      " 3   escolaridade                     1000 non-null   object \n",
      " 4   nível de proficiência em inglês  1000 non-null   object \n",
      " 5   renda                            1000 non-null   float64\n",
      " 6   sexo                             1000 non-null   object \n",
      "dtypes: float64(1), int64(2), object(4)\n",
      "memory usage: 54.8+ KB\n"
     ]
    }
   ],
   "source": [
    "# df.dtypes()\n",
    "df.info()"
   ]
  },
  {
   "cell_type": "code",
   "execution_count": 6,
   "metadata": {},
   "outputs": [],
   "source": [
    "df = df.rename(columns={'Unnamed: 0':'index'})"
   ]
  },
  {
   "cell_type": "markdown",
   "metadata": {},
   "source": [
    "## 1. Considere pessoas fluentes em inglês, qual a probabilidade complementar? Ou seja, qual a probabilidade de escolhermos uma pessoa aleatória e ela não ser fluente em inglês. Considere fluente quemtemonível avançado."
   ]
  },
  {
   "cell_type": "code",
   "execution_count": 7,
   "metadata": {},
   "outputs": [
    {
     "data": {
      "text/plain": [
       "344"
      ]
     },
     "execution_count": 7,
     "metadata": {},
     "output_type": "execute_result"
    }
   ],
   "source": [
    "fluentes = df.groupby(['nível de proficiência em inglês'])['index'].count()\n",
    "\n",
    "fluentes_avancado = fluentes['Avançado']\n",
    "\n",
    "fluentes_avancado"
   ]
  },
  {
   "cell_type": "code",
   "execution_count": 8,
   "metadata": {},
   "outputs": [
    {
     "data": {
      "text/plain": [
       "0.344"
      ]
     },
     "execution_count": 8,
     "metadata": {},
     "output_type": "execute_result"
    }
   ],
   "source": [
    "probabilidade_fluentes = fluentes_avancado/df['nível de proficiência em inglês'].count()\n",
    "\n",
    "probabilidade_fluentes"
   ]
  },
  {
   "cell_type": "markdown",
   "metadata": {},
   "source": [
    "A probabilidade disso ocorrer é de 0.344%"
   ]
  },
  {
   "cell_type": "markdown",
   "metadata": {},
   "source": [
    "## 2. Se uma pessoa escolhida aleatoriamente for de Alagoas ou do Pará, qual é a probabilidade de ela ter uma renda superior a 5 mil reais?"
   ]
  },
  {
   "cell_type": "code",
   "execution_count": 9,
   "metadata": {},
   "outputs": [
    {
     "data": {
      "text/plain": [
       "86"
      ]
     },
     "execution_count": 9,
     "metadata": {},
     "output_type": "execute_result"
    }
   ],
   "source": [
    "amapa_para = df[(df['estado'] == 'AP') | (df['estado'] == 'PA')]\n",
    "\n",
    "amapa_para['estado'].count()"
   ]
  },
  {
   "cell_type": "code",
   "execution_count": 10,
   "metadata": {},
   "outputs": [
    {
     "data": {
      "text/plain": [
       "4"
      ]
     },
     "execution_count": 10,
     "metadata": {},
     "output_type": "execute_result"
    }
   ],
   "source": [
    "renda = amapa_para['renda'].where(amapa_para['renda'] > 5000).count()\n",
    "\n",
    "renda"
   ]
  },
  {
   "cell_type": "code",
   "execution_count": 11,
   "metadata": {},
   "outputs": [
    {
     "data": {
      "text/plain": [
       "0.046511627906976744"
      ]
     },
     "execution_count": 11,
     "metadata": {},
     "output_type": "execute_result"
    }
   ],
   "source": [
    "probabilidade_renda_maior_5000 = renda/amapa_para['renda'].count()\n",
    "\n",
    "probabilidade_renda_maior_5000"
   ]
  },
  {
   "cell_type": "markdown",
   "metadata": {},
   "source": [
    "A probabilidade de ser do Amapa ou Para com renda maior que 5000 é: 0.046%"
   ]
  },
  {
   "cell_type": "markdown",
   "metadata": {},
   "source": [
    "## 3. Descubra a probabilidade de uma pessoa ter ensino superior completo no estado do Amazonas. Qual a probabilidade da quinta pessoa que você conversar, que é amazonense, ter ensino superior completo?"
   ]
  },
  {
   "cell_type": "markdown",
   "metadata": {},
   "source": [
    "Evento complementar de E é o conjunto formado por todos os elementos do espaço amostral que não pertencem a E"
   ]
  },
  {
   "cell_type": "code",
   "execution_count": 12,
   "metadata": {},
   "outputs": [
    {
     "data": {
      "text/plain": [
       "38"
      ]
     },
     "execution_count": 12,
     "metadata": {},
     "output_type": "execute_result"
    }
   ],
   "source": [
    "pessoas_AM = df[df['estado'] == 'AM']\n",
    "\n",
    "pessoas_AM['index'].count()"
   ]
  },
  {
   "cell_type": "code",
   "execution_count": 13,
   "metadata": {},
   "outputs": [
    {
     "data": {
      "text/plain": [
       "21"
      ]
     },
     "execution_count": 13,
     "metadata": {},
     "output_type": "execute_result"
    }
   ],
   "source": [
    "escolaridade = pessoas_AM[(pessoas_AM['escolaridade'] == 'Superior') | (pessoas_AM['escolaridade'] == 'Pós-graduação') ]['escolaridade'].count()\n",
    "\n",
    "escolaridade"
   ]
  },
  {
   "cell_type": "code",
   "execution_count": 14,
   "metadata": {},
   "outputs": [
    {
     "data": {
      "text/plain": [
       "0.5526315789473685"
      ]
     },
     "execution_count": 14,
     "metadata": {},
     "output_type": "execute_result"
    }
   ],
   "source": [
    "probabilidade_superior_AM = escolaridade/pessoas_AM['escolaridade'].count()\n",
    "probabilidade_superior_AM"
   ]
  },
  {
   "cell_type": "markdown",
   "metadata": {},
   "source": [
    "A probabilidade de uma pessoa do Amazonas ter o ensino superior é de: 0.553%"
   ]
  },
  {
   "cell_type": "markdown",
   "metadata": {},
   "source": [
    "### Qual a probabilidade da quinta pessoa que você conversar, que é amazonense, ter ensino superior completo?"
   ]
  },
  {
   "cell_type": "code",
   "execution_count": 15,
   "metadata": {},
   "outputs": [
    {
     "data": {
      "text/plain": [
       "0.4473684210526315"
      ]
     },
     "execution_count": 15,
     "metadata": {},
     "output_type": "execute_result"
    }
   ],
   "source": [
    "prob_complementar = 1 - probabilidade_superior_AM\n",
    "prob_complementar"
   ]
  },
  {
   "cell_type": "code",
   "execution_count": 16,
   "metadata": {},
   "outputs": [
    {
     "data": {
      "text/plain": [
       "0.022135890467222828"
      ]
     },
     "execution_count": 16,
     "metadata": {},
     "output_type": "execute_result"
    }
   ],
   "source": [
    "prob_5_pessoa =  prob_complementar**(4) * probabilidade_superior_AM\n",
    "prob_5_pessoa"
   ]
  },
  {
   "cell_type": "markdown",
   "metadata": {},
   "source": [
    "A probabilidade disso ocorrer é de: 0.0221%"
   ]
  },
  {
   "cell_type": "markdown",
   "metadata": {},
   "source": [
    "Com o uso de funções: \n",
    "\n",
    "A função **binom.pmf(k, n, p)** na biblioteca scipy.stats é usada para calcular a probabilidade de um número específico de sucessos (k) em um número fixo de tentativas (n), seguindo uma distribuição binomial com uma probabilidade de sucesso (p).\n",
    "\n",
    "k: Número de sucessos desejados.\n",
    "\n",
    "n: Número total de tentativas (ou ensaios).\n",
    "\n",
    "p: Probabilidade de sucesso em cada tentativa."
   ]
  },
  {
   "cell_type": "code",
   "execution_count": 17,
   "metadata": {},
   "outputs": [
    {
     "data": {
      "text/plain": [
       "0.11067945233611416"
      ]
     },
     "execution_count": 17,
     "metadata": {},
     "output_type": "execute_result"
    }
   ],
   "source": [
    "from scipy.stats import binom\n",
    "\n",
    "probabilidade = binom.pmf(1, 5, probabilidade_superior_AM)\n",
    "probabilidade"
   ]
  },
  {
   "cell_type": "markdown",
   "metadata": {},
   "source": [
    "### Distribuicao geométrica\n",
    "'k' é o número de tentativas até o primeiro sucesso.\n",
    "\n",
    "'p' é a probabilidade de sucesso em uma única tentativa.\n",
    "\n",
    "Na biblioteca scipy.stats, você pode usar a função geom.pmf(k, p) para calcular a probabilidade de obter exatamente k tentativas até o primeiro sucesso, dadas as condições especificadas pela probabilidade de sucesso \n",
    "p."
   ]
  },
  {
   "cell_type": "code",
   "execution_count": 18,
   "metadata": {},
   "outputs": [
    {
     "data": {
      "text/plain": [
       "0.022135890467222828"
      ]
     },
     "execution_count": 18,
     "metadata": {},
     "output_type": "execute_result"
    }
   ],
   "source": [
    "from scipy.stats import geom\n",
    "\n",
    "probabilidade = geom.pmf(5, probabilidade_superior_AM)\n",
    "probabilidade"
   ]
  },
  {
   "cell_type": "markdown",
   "metadata": {},
   "source": [
    "## 4. Considerando a renda das pessoas do nosso conjunto, podemos dizer que a renda de uma pessoa brasileira está na sua maioria em que faixa (faça faixa de 1.500 reais)? Qual é a sua função densidade de probabilidade?"
   ]
  },
  {
   "cell_type": "code",
   "execution_count": 19,
   "metadata": {},
   "outputs": [
    {
     "data": {
      "text/plain": [
       "4"
      ]
     },
     "execution_count": 19,
     "metadata": {},
     "output_type": "execute_result"
    }
   ],
   "source": [
    "# Calcular o número de faixas de renda\n",
    "min_renda = df['renda'].min()\n",
    "max_renda = df['renda'].max()\n",
    "numero_faixas = int((max_renda - min_renda) / 1500) + 1\n",
    "\n",
    "numero_faixas"
   ]
  },
  {
   "cell_type": "code",
   "execution_count": 20,
   "metadata": {},
   "outputs": [
    {
     "name": "stdout",
     "output_type": "stream",
     "text": [
      "renda\n",
      "0 a 1500        54\n",
      "1500 a 3000    362\n",
      "3000 a 4500    464\n",
      "4500 a 6000    120\n",
      "Name: count, dtype: int64\n"
     ]
    }
   ],
   "source": [
    "faixas = ['0 a 1500', '1500 a 3000', '3000 a 4500', '4500 a 6000']\n",
    "faixas_renda = pd.cut(df['renda'], bins=numero_faixas, labels=faixas, include_lowest=True)\n",
    "\n",
    "print(faixas_renda.value_counts().sort_index())\n"
   ]
  },
  {
   "cell_type": "code",
   "execution_count": 21,
   "metadata": {},
   "outputs": [
    {
     "name": "stdout",
     "output_type": "stream",
     "text": [
      "Faixa de renda mais comum: 3000 a 4500\n",
      "Função densidade de probabilidade (PDF) da renda:\n",
      "renda\n",
      "0 a 1500       0.054\n",
      "1500 a 3000    0.362\n",
      "3000 a 4500    0.464\n",
      "4500 a 6000    0.120\n",
      "Name: count, dtype: float64\n"
     ]
    }
   ],
   "source": [
    "# Contar o número de pessoas em cada faixa de renda\n",
    "contagem_por_faixa = faixas_renda.value_counts().sort_index()\n",
    "\n",
    "# Determinar em qual faixa de renda a maioria das pessoas se encontra\n",
    "faixa_mais_comum = contagem_por_faixa.idxmax()\n",
    "\n",
    "# Calcular a função densidade de probabilidade (PDF) da renda\n",
    "pdf_renda = contagem_por_faixa / len(df)\n",
    "\n",
    "print(\"Faixa de renda mais comum:\", faixa_mais_comum)\n",
    "print(\"Função densidade de probabilidade (PDF) da renda:\")\n",
    "print(pdf_renda)"
   ]
  },
  {
   "cell_type": "markdown",
   "metadata": {},
   "source": [
    "## 5. Calcule a média e a variância da renda da amostra. Depois faça a distribuição normal, inclua o gráfico."
   ]
  },
  {
   "cell_type": "code",
   "execution_count": 22,
   "metadata": {},
   "outputs": [
    {
     "name": "stdout",
     "output_type": "stream",
     "text": [
      "Média da renda: 3082.5371800000003\n",
      "Variância da renda: 993156.2281676152\n"
     ]
    },
    {
     "data": {
      "image/png": "[encoded data removed]",
      "text/plain": [
       "<Figure size 1000x600 with 1 Axes>"
      ]
     },
     "metadata": {},
     "output_type": "display_data"
    }
   ],
   "source": [
    "from scipy.stats import norm\n",
    "\n",
    "# Calcular a média e a variância da renda da amostra\n",
    "media_renda = df['renda'].mean()\n",
    "variancia_renda = df['renda'].var()\n",
    "\n",
    "print(\"Média da renda:\", media_renda)\n",
    "print(\"Variância da renda:\", variancia_renda)\n",
    "\n",
    "# Criar a distribuição normal usando a média e a variância da renda\n",
    "renda_min = df['renda'].min()\n",
    "renda_max = df['renda'].max()\n",
    "renda_range = np.linspace(renda_min, renda_max, 1000)\n",
    "pdf_normal = norm.pdf(renda_range, loc=media_renda, scale=np.sqrt(variancia_renda))\n",
    "\n",
    "# Plotar o gráfico da distribuição normal\n",
    "plt.figure(figsize=(10, 6))\n",
    "plt.plot(renda_range, pdf_normal, label='Distribuição Normal', color='blue')\n",
    "plt.title('Distribuição Normal da Renda')\n",
    "plt.xlabel('Renda')\n",
    "plt.ylabel('Densidade de Probabilidade')\n",
    "plt.legend()\n",
    "plt.grid(True)\n",
    "plt.show()"
   ]
  },
  {
   "cell_type": "markdown",
   "metadata": {},
   "source": [
    "## 6. Primeiro considere a probabilidade encontrada no nosso conjunto de pessoas com escolaridade de pós-graduação. Considerando a amostra de população brasileira com 1 milhão de habitantes, qual a probabilidade de encontrarmos 243 mil pessoas com pós-graduação?"
   ]
  },
  {
   "cell_type": "code",
   "execution_count": 24,
   "metadata": {},
   "outputs": [
    {
     "data": {
      "text/html": [
       "<div>\n",
       "<style scoped>\n",
       "    .dataframe tbody tr th:only-of-type {\n",
       "        vertical-align: middle;\n",
       "    }\n",
       "\n",
       "    .dataframe tbody tr th {\n",
       "        vertical-align: top;\n",
       "    }\n",
       "\n",
       "    .dataframe thead th {\n",
       "        text-align: right;\n",
       "    }\n",
       "</style>\n",
       "<table border=\"1\" class=\"dataframe\">\n",
       "  <thead>\n",
       "    <tr style=\"text-align: right;\">\n",
       "      <th></th>\n",
       "      <th>index</th>\n",
       "      <th>estado</th>\n",
       "      <th>idade</th>\n",
       "      <th>escolaridade</th>\n",
       "      <th>nível de proficiência em inglês</th>\n",
       "      <th>renda</th>\n",
       "      <th>sexo</th>\n",
       "    </tr>\n",
       "  </thead>\n",
       "  <tbody>\n",
       "    <tr>\n",
       "      <th>11</th>\n",
       "      <td>11</td>\n",
       "      <td>SC</td>\n",
       "      <td>41</td>\n",
       "      <td>Pós-graduação</td>\n",
       "      <td>Intermediário</td>\n",
       "      <td>2396.01</td>\n",
       "      <td>M</td>\n",
       "    </tr>\n",
       "    <tr>\n",
       "      <th>15</th>\n",
       "      <td>15</td>\n",
       "      <td>GO</td>\n",
       "      <td>20</td>\n",
       "      <td>Pós-graduação</td>\n",
       "      <td>Básico</td>\n",
       "      <td>3254.42</td>\n",
       "      <td>M</td>\n",
       "    </tr>\n",
       "    <tr>\n",
       "      <th>16</th>\n",
       "      <td>16</td>\n",
       "      <td>RO</td>\n",
       "      <td>39</td>\n",
       "      <td>Pós-graduação</td>\n",
       "      <td>Básico</td>\n",
       "      <td>3337.60</td>\n",
       "      <td>M</td>\n",
       "    </tr>\n",
       "    <tr>\n",
       "      <th>18</th>\n",
       "      <td>18</td>\n",
       "      <td>MS</td>\n",
       "      <td>41</td>\n",
       "      <td>Pós-graduação</td>\n",
       "      <td>Avançado</td>\n",
       "      <td>2512.39</td>\n",
       "      <td>F</td>\n",
       "    </tr>\n",
       "    <tr>\n",
       "      <th>19</th>\n",
       "      <td>19</td>\n",
       "      <td>SP</td>\n",
       "      <td>61</td>\n",
       "      <td>Pós-graduação</td>\n",
       "      <td>Básico</td>\n",
       "      <td>2567.44</td>\n",
       "      <td>F</td>\n",
       "    </tr>\n",
       "    <tr>\n",
       "      <th>...</th>\n",
       "      <td>...</td>\n",
       "      <td>...</td>\n",
       "      <td>...</td>\n",
       "      <td>...</td>\n",
       "      <td>...</td>\n",
       "      <td>...</td>\n",
       "      <td>...</td>\n",
       "    </tr>\n",
       "    <tr>\n",
       "      <th>987</th>\n",
       "      <td>987</td>\n",
       "      <td>PA</td>\n",
       "      <td>28</td>\n",
       "      <td>Pós-graduação</td>\n",
       "      <td>Avançado</td>\n",
       "      <td>4088.75</td>\n",
       "      <td>M</td>\n",
       "    </tr>\n",
       "    <tr>\n",
       "      <th>988</th>\n",
       "      <td>988</td>\n",
       "      <td>SC</td>\n",
       "      <td>53</td>\n",
       "      <td>Pós-graduação</td>\n",
       "      <td>Básico</td>\n",
       "      <td>4884.59</td>\n",
       "      <td>F</td>\n",
       "    </tr>\n",
       "    <tr>\n",
       "      <th>992</th>\n",
       "      <td>992</td>\n",
       "      <td>DF</td>\n",
       "      <td>50</td>\n",
       "      <td>Pós-graduação</td>\n",
       "      <td>Básico</td>\n",
       "      <td>3140.89</td>\n",
       "      <td>F</td>\n",
       "    </tr>\n",
       "    <tr>\n",
       "      <th>994</th>\n",
       "      <td>994</td>\n",
       "      <td>DF</td>\n",
       "      <td>27</td>\n",
       "      <td>Pós-graduação</td>\n",
       "      <td>Avançado</td>\n",
       "      <td>3323.17</td>\n",
       "      <td>F</td>\n",
       "    </tr>\n",
       "    <tr>\n",
       "      <th>997</th>\n",
       "      <td>997</td>\n",
       "      <td>GO</td>\n",
       "      <td>27</td>\n",
       "      <td>Pós-graduação</td>\n",
       "      <td>Intermediário</td>\n",
       "      <td>1405.30</td>\n",
       "      <td>F</td>\n",
       "    </tr>\n",
       "  </tbody>\n",
       "</table>\n",
       "<p>253 rows × 7 columns</p>\n",
       "</div>"
      ],
      "text/plain": [
       "     index estado  idade   escolaridade nível de proficiência em inglês  \\\n",
       "11      11     SC     41  Pós-graduação                   Intermediário   \n",
       "15      15     GO     20  Pós-graduação                          Básico   \n",
       "16      16     RO     39  Pós-graduação                          Básico   \n",
       "18      18     MS     41  Pós-graduação                        Avançado   \n",
       "19      19     SP     61  Pós-graduação                          Básico   \n",
       "..     ...    ...    ...            ...                             ...   \n",
       "987    987     PA     28  Pós-graduação                        Avançado   \n",
       "988    988     SC     53  Pós-graduação                          Básico   \n",
       "992    992     DF     50  Pós-graduação                          Básico   \n",
       "994    994     DF     27  Pós-graduação                        Avançado   \n",
       "997    997     GO     27  Pós-graduação                   Intermediário   \n",
       "\n",
       "       renda sexo  \n",
       "11   2396.01    M  \n",
       "15   3254.42    M  \n",
       "16   3337.60    M  \n",
       "18   2512.39    F  \n",
       "19   2567.44    F  \n",
       "..       ...  ...  \n",
       "987  4088.75    M  \n",
       "988  4884.59    F  \n",
       "992  3140.89    F  \n",
       "994  3323.17    F  \n",
       "997  1405.30    F  \n",
       "\n",
       "[253 rows x 7 columns]"
      ]
     },
     "execution_count": 24,
     "metadata": {},
     "output_type": "execute_result"
    }
   ],
   "source": [
    "escolaridade_pos_graduacao = df[df['escolaridade'] == 'Pós-graduação']\n",
    "escolaridade_pos_graduacao"
   ]
  },
  {
   "cell_type": "code",
   "execution_count": 26,
   "metadata": {},
   "outputs": [
    {
     "data": {
      "text/plain": [
       "0.253"
      ]
     },
     "execution_count": 26,
     "metadata": {},
     "output_type": "execute_result"
    }
   ],
   "source": [
    "## Probabilidade de ter pos graduação nos dados de populacao_brasileira.csv\n",
    "probabilidade_pos_graducao = escolaridade_pos_graduacao['index'].count()/df['index'].count()\n",
    "probabilidade_pos_graducao"
   ]
  },
  {
   "cell_type": "markdown",
   "metadata": {},
   "source": [
    "Com o uso de funções: \n",
    "\n",
    "A função **binom.pmf(k, n, p)** na biblioteca scipy.stats é usada para calcular a probabilidade de um número específico de sucessos (k) em um número fixo de tentativas (n), seguindo uma distribuição binomial com uma probabilidade de sucesso (p).\n",
    "\n",
    "k: Número de sucessos desejados.\n",
    "\n",
    "n: Número total de tentativas (ou ensaios).\n",
    "\n",
    "p: Probabilidade de sucesso em cada tentativa."
   ]
  },
  {
   "cell_type": "code",
   "execution_count": 29,
   "metadata": {},
   "outputs": [
    {
     "name": "stdout",
     "output_type": "stream",
     "text": [
      "A probabilidade de encontrar 243.000 pessoas com pós-graduação é de aproximadamente 0.09%\n"
     ]
    }
   ],
   "source": [
    "from scipy.stats import binom\n",
    "\n",
    "# Definindo os parâmetros\n",
    "n = 1000000  # população brasileira\n",
    "k = 243000    # pessoas com pós-graduação\n",
    "p = 0.243     # probabilidade de uma pessoa ter pós-graduação (suposição)\n",
    "\n",
    "# Calculando a probabilidade usando a função binom.pmf\n",
    "probabilidade = binom.pmf(k, n, p)\n",
    "\n",
    "print(\"A probabilidade de encontrar 243.000 pessoas com pós-graduação é de aproximadamente {:.2f}%\".format(probabilidade * 100))\n"
   ]
  },
  {
   "cell_type": "markdown",
   "metadata": {},
   "source": [
    "## 7. Somando as densidades nós temos a função de densidade acumulada. Considerando a coluna ‘Escolaridade’ faça a função de densidade acumulada discreta para cada nível de escolaridade."
   ]
  },
  {
   "cell_type": "code",
   "execution_count": 46,
   "metadata": {},
   "outputs": [
    {
     "data": {
      "text/html": [
       "<div>\n",
       "<style scoped>\n",
       "    .dataframe tbody tr th:only-of-type {\n",
       "        vertical-align: middle;\n",
       "    }\n",
       "\n",
       "    .dataframe tbody tr th {\n",
       "        vertical-align: top;\n",
       "    }\n",
       "\n",
       "    .dataframe thead th {\n",
       "        text-align: right;\n",
       "    }\n",
       "</style>\n",
       "<table border=\"1\" class=\"dataframe\">\n",
       "  <thead>\n",
       "    <tr style=\"text-align: right;\">\n",
       "      <th></th>\n",
       "      <th>index</th>\n",
       "    </tr>\n",
       "    <tr>\n",
       "      <th>escolaridade</th>\n",
       "      <th></th>\n",
       "    </tr>\n",
       "  </thead>\n",
       "  <tbody>\n",
       "    <tr>\n",
       "      <th>Fundamental</th>\n",
       "      <td>266</td>\n",
       "    </tr>\n",
       "    <tr>\n",
       "      <th>Médio</th>\n",
       "      <td>238</td>\n",
       "    </tr>\n",
       "    <tr>\n",
       "      <th>Pós-graduação</th>\n",
       "      <td>253</td>\n",
       "    </tr>\n",
       "    <tr>\n",
       "      <th>Superior</th>\n",
       "      <td>243</td>\n",
       "    </tr>\n",
       "  </tbody>\n",
       "</table>\n",
       "</div>"
      ],
      "text/plain": [
       "               index\n",
       "escolaridade        \n",
       "Fundamental      266\n",
       "Médio            238\n",
       "Pós-graduação    253\n",
       "Superior         243"
      ]
     },
     "execution_count": 46,
     "metadata": {},
     "output_type": "execute_result"
    }
   ],
   "source": [
    "separacao_nivel_escolaridade = pd.DataFrame(df.groupby('escolaridade').count()['index'])\n",
    "separacao_nivel_escolaridade"
   ]
  },
  {
   "cell_type": "code",
   "execution_count": 50,
   "metadata": {},
   "outputs": [
    {
     "name": "stdout",
     "output_type": "stream",
     "text": [
      "Densidade acumulada discreta para cada nível de escolaridade:\n",
      "               densidade  densidade acumulada\n",
      "escolaridade                                 \n",
      "Fundamental          266                  266\n",
      "Médio                238                  504\n",
      "Pós-graduação        253                  757\n",
      "Superior             243                 1000\n"
     ]
    }
   ],
   "source": [
    "# freq = pd.DataFrame(separacao_nivel_escolaridade.value_counts(bins=4, sort=False))\n",
    "# freq\n",
    "\n",
    "# Calcular a proporção de ocorrências acumuladas\n",
    "densidade_acumulada = separacao_nivel_escolaridade.copy()\n",
    "\n",
    "densidade_acumulada ['densidade acumulada'] = separacao_nivel_escolaridade.cumsum()\n",
    "# densidade_acumulada = separacao_nivel_escolaridade.cumsum()\n",
    "\n",
    "densidade_acumulada.rename(columns={'index':'densidade'}, inplace=True)\n",
    "\n",
    "print(\"Densidade acumulada discreta para cada nível de escolaridade:\")\n",
    "print(densidade_acumulada)"
   ]
  },
  {
   "cell_type": "markdown",
   "metadata": {},
   "source": [
    "## 8. Qual a margem de erro amostral da proporção populacional considerando a proporção de pessoas com nível de inglês intermediário?"
   ]
  },
  {
   "cell_type": "code",
   "execution_count": 55,
   "metadata": {},
   "outputs": [
    {
     "data": {
      "text/html": [
       "<div>\n",
       "<style scoped>\n",
       "    .dataframe tbody tr th:only-of-type {\n",
       "        vertical-align: middle;\n",
       "    }\n",
       "\n",
       "    .dataframe tbody tr th {\n",
       "        vertical-align: top;\n",
       "    }\n",
       "\n",
       "    .dataframe thead th {\n",
       "        text-align: right;\n",
       "    }\n",
       "</style>\n",
       "<table border=\"1\" class=\"dataframe\">\n",
       "  <thead>\n",
       "    <tr style=\"text-align: right;\">\n",
       "      <th></th>\n",
       "      <th>index</th>\n",
       "      <th>estado</th>\n",
       "      <th>idade</th>\n",
       "      <th>escolaridade</th>\n",
       "      <th>nível de proficiência em inglês</th>\n",
       "      <th>renda</th>\n",
       "      <th>sexo</th>\n",
       "    </tr>\n",
       "  </thead>\n",
       "  <tbody>\n",
       "    <tr>\n",
       "      <th>0</th>\n",
       "      <td>0</td>\n",
       "      <td>MA</td>\n",
       "      <td>56</td>\n",
       "      <td>Fundamental</td>\n",
       "      <td>Intermediário</td>\n",
       "      <td>4006.29</td>\n",
       "      <td>F</td>\n",
       "    </tr>\n",
       "    <tr>\n",
       "      <th>2</th>\n",
       "      <td>2</td>\n",
       "      <td>AM</td>\n",
       "      <td>32</td>\n",
       "      <td>Fundamental</td>\n",
       "      <td>Intermediário</td>\n",
       "      <td>3835.69</td>\n",
       "      <td>M</td>\n",
       "    </tr>\n",
       "    <tr>\n",
       "      <th>6</th>\n",
       "      <td>6</td>\n",
       "      <td>DF</td>\n",
       "      <td>56</td>\n",
       "      <td>Médio</td>\n",
       "      <td>Intermediário</td>\n",
       "      <td>528.36</td>\n",
       "      <td>F</td>\n",
       "    </tr>\n",
       "    <tr>\n",
       "      <th>10</th>\n",
       "      <td>10</td>\n",
       "      <td>AC</td>\n",
       "      <td>28</td>\n",
       "      <td>Superior</td>\n",
       "      <td>Intermediário</td>\n",
       "      <td>3371.15</td>\n",
       "      <td>M</td>\n",
       "    </tr>\n",
       "    <tr>\n",
       "      <th>11</th>\n",
       "      <td>11</td>\n",
       "      <td>SC</td>\n",
       "      <td>41</td>\n",
       "      <td>Pós-graduação</td>\n",
       "      <td>Intermediário</td>\n",
       "      <td>2396.01</td>\n",
       "      <td>M</td>\n",
       "    </tr>\n",
       "    <tr>\n",
       "      <th>...</th>\n",
       "      <td>...</td>\n",
       "      <td>...</td>\n",
       "      <td>...</td>\n",
       "      <td>...</td>\n",
       "      <td>...</td>\n",
       "      <td>...</td>\n",
       "      <td>...</td>\n",
       "    </tr>\n",
       "    <tr>\n",
       "      <th>984</th>\n",
       "      <td>984</td>\n",
       "      <td>AP</td>\n",
       "      <td>31</td>\n",
       "      <td>Médio</td>\n",
       "      <td>Intermediário</td>\n",
       "      <td>2773.52</td>\n",
       "      <td>F</td>\n",
       "    </tr>\n",
       "    <tr>\n",
       "      <th>985</th>\n",
       "      <td>985</td>\n",
       "      <td>ES</td>\n",
       "      <td>55</td>\n",
       "      <td>Fundamental</td>\n",
       "      <td>Intermediário</td>\n",
       "      <td>2040.56</td>\n",
       "      <td>M</td>\n",
       "    </tr>\n",
       "    <tr>\n",
       "      <th>990</th>\n",
       "      <td>990</td>\n",
       "      <td>TO</td>\n",
       "      <td>60</td>\n",
       "      <td>Fundamental</td>\n",
       "      <td>Intermediário</td>\n",
       "      <td>2511.15</td>\n",
       "      <td>M</td>\n",
       "    </tr>\n",
       "    <tr>\n",
       "      <th>997</th>\n",
       "      <td>997</td>\n",
       "      <td>GO</td>\n",
       "      <td>27</td>\n",
       "      <td>Pós-graduação</td>\n",
       "      <td>Intermediário</td>\n",
       "      <td>1405.30</td>\n",
       "      <td>F</td>\n",
       "    </tr>\n",
       "    <tr>\n",
       "      <th>999</th>\n",
       "      <td>999</td>\n",
       "      <td>MG</td>\n",
       "      <td>19</td>\n",
       "      <td>Superior</td>\n",
       "      <td>Intermediário</td>\n",
       "      <td>2467.30</td>\n",
       "      <td>F</td>\n",
       "    </tr>\n",
       "  </tbody>\n",
       "</table>\n",
       "<p>329 rows × 7 columns</p>\n",
       "</div>"
      ],
      "text/plain": [
       "     index estado  idade   escolaridade nível de proficiência em inglês  \\\n",
       "0        0     MA     56    Fundamental                   Intermediário   \n",
       "2        2     AM     32    Fundamental                   Intermediário   \n",
       "6        6     DF     56          Médio                   Intermediário   \n",
       "10      10     AC     28       Superior                   Intermediário   \n",
       "11      11     SC     41  Pós-graduação                   Intermediário   \n",
       "..     ...    ...    ...            ...                             ...   \n",
       "984    984     AP     31          Médio                   Intermediário   \n",
       "985    985     ES     55    Fundamental                   Intermediário   \n",
       "990    990     TO     60    Fundamental                   Intermediário   \n",
       "997    997     GO     27  Pós-graduação                   Intermediário   \n",
       "999    999     MG     19       Superior                   Intermediário   \n",
       "\n",
       "       renda sexo  \n",
       "0    4006.29    F  \n",
       "2    3835.69    M  \n",
       "6     528.36    F  \n",
       "10   3371.15    M  \n",
       "11   2396.01    M  \n",
       "..       ...  ...  \n",
       "984  2773.52    F  \n",
       "985  2040.56    M  \n",
       "990  2511.15    M  \n",
       "997  1405.30    F  \n",
       "999  2467.30    F  \n",
       "\n",
       "[329 rows x 7 columns]"
      ]
     },
     "execution_count": 55,
     "metadata": {},
     "output_type": "execute_result"
    }
   ],
   "source": [
    "nivel_ingles_intermediario = df[df['nível de proficiência em inglês'] == 'Intermediário']\n",
    "nivel_ingles_intermediario"
   ]
  },
  {
   "cell_type": "code",
   "execution_count": 67,
   "metadata": {},
   "outputs": [
    {
     "name": "stdout",
     "output_type": "stream",
     "text": [
      "Margem de erro: 0.029121603225097343\n"
     ]
    }
   ],
   "source": [
    "import math\n",
    "\n",
    "# confianca = 0.95 ## Confianca\n",
    "z = 1.96  # Valor z para um nível de confiança de 95%\n",
    "n = df['index'].count()\n",
    "p = nivel_ingles_intermediario['index'].count()/df['index'].count()\n",
    "# print(f'Proporcao: {p}')\n",
    "margin_of_error = z * math.sqrt((p * (1 - p)) / n)\n",
    "\n",
    "print(f'Margem de erro: {margin_of_error}')"
   ]
  },
  {
   "cell_type": "markdown",
   "metadata": {},
   "source": [
    "## 9. Calcula a renda da população. Qual a probabilidade de encontrar 60 pessoas com uma renda mil reais superior à média?"
   ]
  },
  {
   "cell_type": "code",
   "execution_count": 76,
   "metadata": {},
   "outputs": [
    {
     "name": "stdout",
     "output_type": "stream",
     "text": [
      "Média: 3082.5371800000003 | Desvio Padão: 996.572239312141\n",
      "Probabilidade de uma pessoa ter renda superior a R$ 4000: 0.15782441468557806\n",
      "Número esperado de pessoas com renda superior a R$ 4000: 157.82441468557806\n",
      "Probabilidade de encontrar exatamente 60 pessoas com renda superior a R$ 4000: 1.1597038406785185e-21\n"
     ]
    }
   ],
   "source": [
    "from scipy.stats import norm, binom\n",
    "import numpy as np\n",
    "\n",
    "media_renda_populacao = df['renda'].mean()\n",
    "desvio_padrao = df['renda'].std()\n",
    "\n",
    "print(f'Média: {media_renda_populacao} | Desvio Padão: {desvio_padrao}')\n",
    "\n",
    "prob = 1 - norm.cdf(media_renda_populacao+1000, loc=media_renda_populacao, scale=desvio_padrao)\n",
    "\n",
    "# Probabilidade de uma pessoa ter renda superior a R$ 4000 multiplicada pelo número total de pessoas\n",
    "prob_renda_superior_a_media = prob * df['index'].count()\n",
    "\n",
    "# Probabilidade de encontrar exatamente 60 pessoas com renda superior a R$ 4000\n",
    "prob_60_pessoas = binom.pmf(60, df['index'].count(), prob)\n",
    "\n",
    "\n",
    "print(\"Probabilidade de uma pessoa ter renda superior a R$ 4000:\", prob)\n",
    "print(\"Número esperado de pessoas com renda superior a R$ 4000:\", prob_renda_superior_a_media)\n",
    "print(\"Probabilidade de encontrar exatamente 60 pessoas com renda superior a R$ 4000:\", prob_60_pessoas)"
   ]
  },
  {
   "cell_type": "markdown",
   "metadata": {},
   "source": [
    "## 10. Qual a probabilidade de escolhermos alguém do Sudeste que seja homem, com ensino fundamental e com renda maior que 2 mil reais por mês?"
   ]
  },
  {
   "cell_type": "code",
   "execution_count": 79,
   "metadata": {},
   "outputs": [
    {
     "data": {
      "text/html": [
       "<div>\n",
       "<style scoped>\n",
       "    .dataframe tbody tr th:only-of-type {\n",
       "        vertical-align: middle;\n",
       "    }\n",
       "\n",
       "    .dataframe tbody tr th {\n",
       "        vertical-align: top;\n",
       "    }\n",
       "\n",
       "    .dataframe thead th {\n",
       "        text-align: right;\n",
       "    }\n",
       "</style>\n",
       "<table border=\"1\" class=\"dataframe\">\n",
       "  <thead>\n",
       "    <tr style=\"text-align: right;\">\n",
       "      <th></th>\n",
       "      <th>index</th>\n",
       "      <th>estado</th>\n",
       "      <th>idade</th>\n",
       "      <th>escolaridade</th>\n",
       "      <th>nível de proficiência em inglês</th>\n",
       "      <th>renda</th>\n",
       "      <th>sexo</th>\n",
       "    </tr>\n",
       "  </thead>\n",
       "  <tbody>\n",
       "    <tr>\n",
       "      <th>155</th>\n",
       "      <td>155</td>\n",
       "      <td>ES</td>\n",
       "      <td>32</td>\n",
       "      <td>Fundamental</td>\n",
       "      <td>Intermediário</td>\n",
       "      <td>3615.94</td>\n",
       "      <td>M</td>\n",
       "    </tr>\n",
       "    <tr>\n",
       "      <th>163</th>\n",
       "      <td>163</td>\n",
       "      <td>ES</td>\n",
       "      <td>45</td>\n",
       "      <td>Fundamental</td>\n",
       "      <td>Básico</td>\n",
       "      <td>4049.01</td>\n",
       "      <td>M</td>\n",
       "    </tr>\n",
       "    <tr>\n",
       "      <th>205</th>\n",
       "      <td>205</td>\n",
       "      <td>ES</td>\n",
       "      <td>19</td>\n",
       "      <td>Fundamental</td>\n",
       "      <td>Avançado</td>\n",
       "      <td>3026.09</td>\n",
       "      <td>M</td>\n",
       "    </tr>\n",
       "    <tr>\n",
       "      <th>301</th>\n",
       "      <td>301</td>\n",
       "      <td>SP</td>\n",
       "      <td>50</td>\n",
       "      <td>Fundamental</td>\n",
       "      <td>Avançado</td>\n",
       "      <td>2786.01</td>\n",
       "      <td>M</td>\n",
       "    </tr>\n",
       "    <tr>\n",
       "      <th>505</th>\n",
       "      <td>505</td>\n",
       "      <td>SP</td>\n",
       "      <td>18</td>\n",
       "      <td>Fundamental</td>\n",
       "      <td>Básico</td>\n",
       "      <td>2961.49</td>\n",
       "      <td>M</td>\n",
       "    </tr>\n",
       "    <tr>\n",
       "      <th>524</th>\n",
       "      <td>524</td>\n",
       "      <td>MG</td>\n",
       "      <td>27</td>\n",
       "      <td>Fundamental</td>\n",
       "      <td>Intermediário</td>\n",
       "      <td>4148.77</td>\n",
       "      <td>M</td>\n",
       "    </tr>\n",
       "    <tr>\n",
       "      <th>612</th>\n",
       "      <td>612</td>\n",
       "      <td>RJ</td>\n",
       "      <td>19</td>\n",
       "      <td>Fundamental</td>\n",
       "      <td>Intermediário</td>\n",
       "      <td>2008.61</td>\n",
       "      <td>M</td>\n",
       "    </tr>\n",
       "    <tr>\n",
       "      <th>626</th>\n",
       "      <td>626</td>\n",
       "      <td>RJ</td>\n",
       "      <td>21</td>\n",
       "      <td>Fundamental</td>\n",
       "      <td>Intermediário</td>\n",
       "      <td>4022.57</td>\n",
       "      <td>M</td>\n",
       "    </tr>\n",
       "    <tr>\n",
       "      <th>680</th>\n",
       "      <td>680</td>\n",
       "      <td>ES</td>\n",
       "      <td>29</td>\n",
       "      <td>Fundamental</td>\n",
       "      <td>Intermediário</td>\n",
       "      <td>2164.65</td>\n",
       "      <td>M</td>\n",
       "    </tr>\n",
       "    <tr>\n",
       "      <th>732</th>\n",
       "      <td>732</td>\n",
       "      <td>MG</td>\n",
       "      <td>50</td>\n",
       "      <td>Fundamental</td>\n",
       "      <td>Intermediário</td>\n",
       "      <td>4091.31</td>\n",
       "      <td>M</td>\n",
       "    </tr>\n",
       "    <tr>\n",
       "      <th>773</th>\n",
       "      <td>773</td>\n",
       "      <td>MG</td>\n",
       "      <td>18</td>\n",
       "      <td>Fundamental</td>\n",
       "      <td>Básico</td>\n",
       "      <td>3817.77</td>\n",
       "      <td>M</td>\n",
       "    </tr>\n",
       "    <tr>\n",
       "      <th>775</th>\n",
       "      <td>775</td>\n",
       "      <td>MG</td>\n",
       "      <td>22</td>\n",
       "      <td>Fundamental</td>\n",
       "      <td>Intermediário</td>\n",
       "      <td>3557.81</td>\n",
       "      <td>M</td>\n",
       "    </tr>\n",
       "    <tr>\n",
       "      <th>785</th>\n",
       "      <td>785</td>\n",
       "      <td>RJ</td>\n",
       "      <td>19</td>\n",
       "      <td>Fundamental</td>\n",
       "      <td>Intermediário</td>\n",
       "      <td>3486.50</td>\n",
       "      <td>M</td>\n",
       "    </tr>\n",
       "    <tr>\n",
       "      <th>814</th>\n",
       "      <td>814</td>\n",
       "      <td>RJ</td>\n",
       "      <td>51</td>\n",
       "      <td>Fundamental</td>\n",
       "      <td>Básico</td>\n",
       "      <td>3541.46</td>\n",
       "      <td>M</td>\n",
       "    </tr>\n",
       "    <tr>\n",
       "      <th>871</th>\n",
       "      <td>871</td>\n",
       "      <td>RJ</td>\n",
       "      <td>32</td>\n",
       "      <td>Fundamental</td>\n",
       "      <td>Avançado</td>\n",
       "      <td>2749.17</td>\n",
       "      <td>M</td>\n",
       "    </tr>\n",
       "    <tr>\n",
       "      <th>881</th>\n",
       "      <td>881</td>\n",
       "      <td>MG</td>\n",
       "      <td>62</td>\n",
       "      <td>Fundamental</td>\n",
       "      <td>Básico</td>\n",
       "      <td>3507.84</td>\n",
       "      <td>M</td>\n",
       "    </tr>\n",
       "    <tr>\n",
       "      <th>885</th>\n",
       "      <td>885</td>\n",
       "      <td>ES</td>\n",
       "      <td>20</td>\n",
       "      <td>Fundamental</td>\n",
       "      <td>Avançado</td>\n",
       "      <td>2160.79</td>\n",
       "      <td>M</td>\n",
       "    </tr>\n",
       "    <tr>\n",
       "      <th>939</th>\n",
       "      <td>939</td>\n",
       "      <td>ES</td>\n",
       "      <td>23</td>\n",
       "      <td>Fundamental</td>\n",
       "      <td>Intermediário</td>\n",
       "      <td>3419.53</td>\n",
       "      <td>M</td>\n",
       "    </tr>\n",
       "    <tr>\n",
       "      <th>985</th>\n",
       "      <td>985</td>\n",
       "      <td>ES</td>\n",
       "      <td>55</td>\n",
       "      <td>Fundamental</td>\n",
       "      <td>Intermediário</td>\n",
       "      <td>2040.56</td>\n",
       "      <td>M</td>\n",
       "    </tr>\n",
       "  </tbody>\n",
       "</table>\n",
       "</div>"
      ],
      "text/plain": [
       "     index estado  idade escolaridade nível de proficiência em inglês  \\\n",
       "155    155     ES     32  Fundamental                   Intermediário   \n",
       "163    163     ES     45  Fundamental                          Básico   \n",
       "205    205     ES     19  Fundamental                        Avançado   \n",
       "301    301     SP     50  Fundamental                        Avançado   \n",
       "505    505     SP     18  Fundamental                          Básico   \n",
       "524    524     MG     27  Fundamental                   Intermediário   \n",
       "612    612     RJ     19  Fundamental                   Intermediário   \n",
       "626    626     RJ     21  Fundamental                   Intermediário   \n",
       "680    680     ES     29  Fundamental                   Intermediário   \n",
       "732    732     MG     50  Fundamental                   Intermediário   \n",
       "773    773     MG     18  Fundamental                          Básico   \n",
       "775    775     MG     22  Fundamental                   Intermediário   \n",
       "785    785     RJ     19  Fundamental                   Intermediário   \n",
       "814    814     RJ     51  Fundamental                          Básico   \n",
       "871    871     RJ     32  Fundamental                        Avançado   \n",
       "881    881     MG     62  Fundamental                          Básico   \n",
       "885    885     ES     20  Fundamental                        Avançado   \n",
       "939    939     ES     23  Fundamental                   Intermediário   \n",
       "985    985     ES     55  Fundamental                   Intermediário   \n",
       "\n",
       "       renda sexo  \n",
       "155  3615.94    M  \n",
       "163  4049.01    M  \n",
       "205  3026.09    M  \n",
       "301  2786.01    M  \n",
       "505  2961.49    M  \n",
       "524  4148.77    M  \n",
       "612  2008.61    M  \n",
       "626  4022.57    M  \n",
       "680  2164.65    M  \n",
       "732  4091.31    M  \n",
       "773  3817.77    M  \n",
       "775  3557.81    M  \n",
       "785  3486.50    M  \n",
       "814  3541.46    M  \n",
       "871  2749.17    M  \n",
       "881  3507.84    M  \n",
       "885  2160.79    M  \n",
       "939  3419.53    M  \n",
       "985  2040.56    M  "
      ]
     },
     "metadata": {},
     "output_type": "display_data"
    },
    {
     "name": "stdout",
     "output_type": "stream",
     "text": [
      "A probabilidade de escolher alguem do sudeste que seja homem, com ensino fundamental e com renda maior que 2 mil reais por mês é: 0.019\n"
     ]
    }
   ],
   "source": [
    "homem_sudeste_ensinoFundamenta_rendaMaior2000 = df[(df['sexo'] == 'M') ]\n",
    "\n",
    "homem_sudeste_ensinoFundamenta_rendaMaior2000 = homem_sudeste_ensinoFundamenta_rendaMaior2000[homem_sudeste_ensinoFundamenta_rendaMaior2000['estado'].isin(['SP', 'MG', 'RJ', 'ES'])]\n",
    "\n",
    "homem_sudeste_ensinoFundamenta_rendaMaior2000 = homem_sudeste_ensinoFundamenta_rendaMaior2000[homem_sudeste_ensinoFundamenta_rendaMaior2000['escolaridade'] == 'Fundamental']\n",
    "\n",
    "homem_sudeste_ensinoFundamenta_rendaMaior2000 = homem_sudeste_ensinoFundamenta_rendaMaior2000[homem_sudeste_ensinoFundamenta_rendaMaior2000['renda'] > 2000]\n",
    "\n",
    "display(homem_sudeste_ensinoFundamenta_rendaMaior2000)\n",
    "\n",
    "\n",
    "prob_homens = homem_sudeste_ensinoFundamenta_rendaMaior2000['index'].count() / df['index'].count()\n",
    "\n",
    "print(f\"A probabilidade de escolher alguem do sudeste que seja homem, com ensino fundamental e com renda maior que 2 mil reais por mês é: {prob_homens}\")"
   ]
  }
 ],
 "metadata": {
  "kernelspec": {
   "display_name": "Python 3",
   "language": "python",
   "name": "python3"
  },
  "language_info": {
   "codemirror_mode": {
    "name": "ipython",
    "version": 3
   },
   "file_extension": ".py",
   "mimetype": "text/x-python",
   "name": "python",
   "nbconvert_exporter": "python",
   "pygments_lexer": "ipython3",
   "version": "3.8.10"
  }
 },
 "nbformat": 4,
 "nbformat_minor": 2
}
